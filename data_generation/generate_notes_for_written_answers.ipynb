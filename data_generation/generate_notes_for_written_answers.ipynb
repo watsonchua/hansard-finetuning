{
 "cells": [
  {
   "cell_type": "code",
   "execution_count": 2,
   "id": "e44f226d-8604-4011-b449-e566d321c542",
   "metadata": {},
   "outputs": [],
   "source": [
    "import os\n",
    "import getpass\n",
    "\n",
    "\n",
    "os.environ[\"AZURE_OPENAI_API_KEY\"] = getpass.getpass()\n",
    "os.environ[\"AZURE_OPENAI_ENDPOINT\"] = \"https://ai-capdev-oai-eastus-gcc2.openai.azure.com/\"\n",
    "os.environ[\"AZURE_OPENAI_API_VERSION\"] = \"2024-05-01-preview\"\n",
    "os.environ[\"AZURE_OPENAI_CHAT_DEPLOYMENT_NAME\"] = \"gpt-4o\""
   ]
  },
  {
   "cell_type": "code",
   "execution_count": 3,
   "id": "0a599c09-21e1-43c8-b37f-013baacff2d4",
   "metadata": {},
   "outputs": [],
   "source": [
    "from langchain_core.messages import HumanMessage\n",
    "from langchain_openai import AzureChatOpenAI\n",
    "\n",
    "model = AzureChatOpenAI(\n",
    "    openai_api_version=os.environ[\"AZURE_OPENAI_API_VERSION\"],\n",
    "    azure_deployment=os.environ[\"AZURE_OPENAI_CHAT_DEPLOYMENT_NAME\"],\n",
    ")"
   ]
  },
  {
   "cell_type": "code",
   "execution_count": 4,
   "id": "256e6ed0-25fc-4111-94f9-e6297e6196c8",
   "metadata": {},
   "outputs": [
    {
     "data": {
      "text/plain": [
       "AIMessage(content=\"J'adore la programmation.\", response_metadata={'token_usage': {'completion_tokens': 5, 'prompt_tokens': 19, 'total_tokens': 24}, 'model_name': 'gpt-4o-2024-05-13', 'system_fingerprint': 'fp_abc28019ad', 'prompt_filter_results': [{'prompt_index': 0, 'content_filter_results': {'hate': {'filtered': False, 'severity': 'safe'}, 'self_harm': {'filtered': False, 'severity': 'safe'}, 'sexual': {'filtered': False, 'severity': 'safe'}, 'violence': {'filtered': False, 'severity': 'safe'}}}], 'finish_reason': 'stop', 'logprobs': None, 'content_filter_results': {'hate': {'filtered': False, 'severity': 'safe'}, 'self_harm': {'filtered': False, 'severity': 'safe'}, 'sexual': {'filtered': False, 'severity': 'safe'}, 'violence': {'filtered': False, 'severity': 'safe'}}}, id='run-19ea6cd5-c52d-44c3-8a86-f5241d217403-0', usage_metadata={'input_tokens': 19, 'output_tokens': 5, 'total_tokens': 24})"
      ]
     },
     "execution_count": 4,
     "metadata": {},
     "output_type": "execute_result"
    }
   ],
   "source": [
    "message = HumanMessage(\n",
    "    content=\"Translate this sentence from English to French. I love programming.\"\n",
    ")\n",
    "model.invoke([message])"
   ]
  },
  {
   "cell_type": "code",
   "execution_count": 5,
   "id": "0b3f398d-97f7-4ea4-9659-caff5126fbc5",
   "metadata": {},
   "outputs": [],
   "source": [
    "def prompt_model(prompt):\n",
    "    return model.invoke([prompt]).content"
   ]
  },
  {
   "cell_type": "code",
   "execution_count": 19,
   "id": "23a8eaa8-0065-4c8a-ba95-7c2d88a379e1",
   "metadata": {},
   "outputs": [],
   "source": [
    "prompt_template = \"\"\"Given the following question and answer pair, do the following:\n",
    "1. Check if the answer addresses the question. If the answer says something like \"This question has been asked before, please refer to another answer.\" The status will be \"not_answered\" and the reference_answer will be the extracted answer link or document id.\n",
    "2. If the answer addresses the question, the status will be \"answered\".\n",
    "3. If the answer addresses the question, summarise the answer in succint and concise point forms in relation to the question.\n",
    "\n",
    "Give your answer as a JSON output with the following keys:\n",
    "\n",
    "\"status\": answered or not_answered,\n",
    "\"reference_answer\": reference_link_or_id or \"\",\n",
    "\"summary_points\": summarised points or \"\"\n",
    "\n",
    "This is the question:\n",
    "{question}\n",
    "\n",
    "And this is the answer:\n",
    "{answer}\n",
    "\"\"\""
   ]
  },
  {
   "cell_type": "code",
   "execution_count": 20,
   "id": "4efe6045-d3f5-45aa-968c-5a1fd1be49d7",
   "metadata": {},
   "outputs": [],
   "source": [
    "import json\n",
    "with open('data/written_question_answers.jsonl', 'r') as f:\n",
    "    lines = f.readlines()\n",
    "json_lines = [json.loads(l) for l in lines]"
   ]
  },
  {
   "cell_type": "code",
   "execution_count": 21,
   "id": "4057fb3d-8e3b-4dbd-b583-f4f9a905572f",
   "metadata": {},
   "outputs": [
    {
     "data": {
      "text/plain": [
       "{'title': 'Size of Job Market for Information and Communications Sector',\n",
       " 'subtitle': None,\n",
       " 'question_speaker': 'Mr Gerald Giam Yean Song',\n",
       " 'answer_speaker': 'Dr Tan See Leng',\n",
       " 'question': 'Mr Gerald Giam Yean Song asked the Minister for Manpower (a) whether the job market in the information and communications sector is shrinking; and (b) if so, whether the Ministry has correspondingly reduced the number of employment passes and S-passes issued to foreigners seeking jobs in this sector. ',\n",
       " 'answer': 'In summary, MOM does not and should not micro-manage how the job market functions by directly and arbitrarily adjusting the number of EPs and S Passes issued in response to business fluctuations. Adopting such a protectionist measure would cause significant business uncertainty, and undermine Singapore’s reputation as a transparent, competitive, and reliable location for businesses. It would go against how we have thrived over the decades by being an open economy and a business hub. Instead, we have a comprehensive suite of measures in place that allows us to attract more investments, and grow the pie to create many more good jobs and career choices for Singaporeans.'}"
      ]
     },
     "execution_count": 21,
     "metadata": {},
     "output_type": "execute_result"
    }
   ],
   "source": [
    "json_lines[0]"
   ]
  },
  {
   "cell_type": "code",
   "execution_count": 22,
   "id": "8decbad5-fac3-4adb-be80-3e2888c127ee",
   "metadata": {},
   "outputs": [],
   "source": [
    "test_prompt = prompt_template.format(question=json_lines[0]['question'], answer=json_lines[0]['question'])"
   ]
  },
  {
   "cell_type": "code",
   "execution_count": 24,
   "id": "5a29bf27-2105-49bd-9ef5-8fa48fdc466f",
   "metadata": {},
   "outputs": [
    {
     "data": {
      "text/plain": [
       "'```json\\n{\\n  \"status\": \"answered\",\\n  \"reference_answer\": \"\",\\n  \"summary_points\": [\\n    \"An average of 25 officers in the Civil Service utilised unpaid leave for parents with multiple or pre-term babies each year in the past five years.\"\\n  ]\\n}\\n```'"
      ]
     },
     "execution_count": 24,
     "metadata": {},
     "output_type": "execute_result"
    }
   ],
   "source": [
    "output = prompt_model(prompt_template.format(question=json_lines[1]['question'], answer=json_lines[1]['answer']))\n",
    "output"
   ]
  },
  {
   "cell_type": "code",
   "execution_count": 25,
   "id": "d3215d8c-17b0-46b2-819c-0553af7f3705",
   "metadata": {},
   "outputs": [],
   "source": [
    "def clean_json_output(output):\n",
    "    output = output.strip()\n",
    "    if output.startswith(\"```json\"):\n",
    "        output = output[7:]\n",
    "    if output.endswith(\"```\"):\n",
    "        output = output[:-3]\n",
    "    cleaned_output = output.strip()\n",
    "\n",
    "    try:\n",
    "        json_data = json.loads(cleaned_output)\n",
    "    except json.JSONDecodeError as e:\n",
    "        logging.error(f\"JSON decoding error: {e}\")\n",
    "        return cleaned_output\n",
    "\n",
    "    def clean_json(data):\n",
    "        if isinstance(data, dict):\n",
    "            return {key: clean_json(value) for key, value in data.items()}\n",
    "        elif isinstance(data, list):\n",
    "            return [clean_json(item) for item in data]\n",
    "        elif isinstance(data, str):\n",
    "            return \"\" if data.lower() in [\"unknown\", \"na\", \"null\"] else data\n",
    "        else:\n",
    "            return data\n",
    "\n",
    "    cleaned_json_data = clean_json(json_data)\n",
    "    cleaned_output = json.dumps(cleaned_json_data, ensure_ascii=False)\n",
    "\n",
    "    return cleaned_output"
   ]
  },
  {
   "cell_type": "code",
   "execution_count": 26,
   "id": "d47e9b84-b3b6-4a04-b7f0-a58f1195e396",
   "metadata": {},
   "outputs": [
    {
     "data": {
      "text/plain": [
       "'{\"status\": \"answered\", \"reference_answer\": \"\", \"summary_points\": [\"An average of 25 officers in the Civil Service utilised unpaid leave for parents with multiple or pre-term babies each year in the past five years.\"]}'"
      ]
     },
     "execution_count": 26,
     "metadata": {},
     "output_type": "execute_result"
    }
   ],
   "source": [
    "clean_json_output(output)"
   ]
  },
  {
   "cell_type": "code",
   "execution_count": 34,
   "id": "29dcd4f2-cf04-4a53-bf1f-0074d3d38916",
   "metadata": {},
   "outputs": [
    {
     "data": {
      "application/vnd.jupyter.widget-view+json": {
       "model_id": "c62ca3bf399f45529b3256a4de8e2472",
       "version_major": 2,
       "version_minor": 0
      },
      "text/plain": [
       "  0%|          | 0/3 [00:00<?, ?it/s]"
      ]
     },
     "metadata": {},
     "output_type": "display_data"
    }
   ],
   "source": [
    "sample_lines = json_lines[:3]\n",
    "\n",
    "from tqdm.auto import tqdm\n",
    "all_data = []\n",
    "with open('data/written_question_answers_processed.jsonl', 'a') as f:\n",
    "    for index, jl in tqdm(enumerate(sample_lines), total=len(sample_lines)):\n",
    "        json_out = clean_json_output(prompt_model(prompt_template.format(question=jl['question'], answer=jl['answer'])))\n",
    "        try:\n",
    "            json_data = json.loads(json_out)\n",
    "        except json.JSONDecodeError as e:        \n",
    "            logging.error(f\"JSON decoding error: {e}\")\n",
    "            continue\n",
    "\n",
    "        json_data[\"points\"] = '\\n\\n'.join(json_data[\"summary_points\"])\n",
    "        for k,v in jl.items():\n",
    "            if k in json_data:\n",
    "                continue\n",
    "            json_data[k] = v\n",
    "\n",
    "        f.write(json.dumps(json_data)+'\\n')                                 "
   ]
  },
  {
   "cell_type": "code",
   "execution_count": 32,
   "id": "4fdc1ed1-c01f-40ad-9878-58fcd25d60bc",
   "metadata": {},
   "outputs": [
    {
     "data": {
      "text/plain": [
       "7011"
      ]
     },
     "execution_count": 32,
     "metadata": {},
     "output_type": "execute_result"
    }
   ],
   "source": []
  },
  {
   "cell_type": "code",
   "execution_count": null,
   "id": "5220f6fd-3fec-4d15-989e-73f7df164467",
   "metadata": {},
   "outputs": [],
   "source": []
  }
 ],
 "metadata": {
  "kernelspec": {
   "display_name": "Python 3 (ipykernel)",
   "language": "python",
   "name": "python3"
  },
  "language_info": {
   "codemirror_mode": {
    "name": "ipython",
    "version": 3
   },
   "file_extension": ".py",
   "mimetype": "text/x-python",
   "name": "python",
   "nbconvert_exporter": "python",
   "pygments_lexer": "ipython3",
   "version": "3.8.16"
  }
 },
 "nbformat": 4,
 "nbformat_minor": 5
}
