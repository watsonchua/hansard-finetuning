{
 "cells": [
  {
   "cell_type": "markdown",
   "metadata": {},
   "source": [
    "## Split data into train and test splits"
   ]
  },
  {
   "cell_type": "code",
   "execution_count": 14,
   "metadata": {},
   "outputs": [],
   "source": [
    "from pathlib import Path\n",
    "output_dir_path = Path(\"/home/watson_chua/efs/hansard_finetuning/data/input_data/\")\n",
    "output_dir_path.mkdir(parents=True, exist_ok=True)    "
   ]
  },
  {
   "cell_type": "code",
   "execution_count": 15,
   "metadata": {},
   "outputs": [],
   "source": [
    "import json\n",
    "import pandas as pd\n",
    "\n",
    "input_path=\"/home/watson_chua/efs/hansard_finetuning/data/input_data/written_question_answers_hy_doc.jsonl\"\n",
    "\n",
    "\n",
    "with open(input_path,'r') as f:\n",
    "    lines = f.readlines()\n",
    "    \n",
    "data = [json.loads(l) for l in lines]\n",
    "df = pd.DataFrame(data)\n",
    "\n",
    "# only use 2024 data which are answered\n",
    "df_answered = df[df['status'] == 'answered']\n",
    "df_answered['date'] = pd.to_datetime(df['filename'].apply(lambda x: x.split('_')[-1]))\n",
    "df_answered_2024 = df_answered[df_answered.date.dt.year == 2024]\n",
    "df_answered_others = df_answered[df_answered.date.dt.year != 2024]"
   ]
  },
  {
   "cell_type": "code",
   "execution_count": 16,
   "metadata": {},
   "outputs": [
    {
     "data": {
      "text/plain": [
       "(304, 1785)"
      ]
     },
     "execution_count": 16,
     "metadata": {},
     "output_type": "execute_result"
    }
   ],
   "source": [
    "len(df_answered_2024), len(df_answered_others)\n"
   ]
  },
  {
   "cell_type": "code",
   "execution_count": 17,
   "metadata": {},
   "outputs": [],
   "source": [
    "train_output_path = output_dir_path / Path(\"hansard_answered_questions_train.csv\")\n",
    "test_output_path= output_dir_path / Path(\"hansard_answered_questions_test.csv\")\n",
    "\n",
    "df_answered_2024.to_csv(test_output_path, index=False)\n",
    "df_answered_others.to_csv(train_output_path, index=False)"
   ]
  },
  {
   "cell_type": "markdown",
   "metadata": {},
   "source": [
    "## Format train and test data for LLM training"
   ]
  },
  {
   "cell_type": "code",
   "execution_count": 18,
   "metadata": {},
   "outputs": [],
   "source": [
    "llama3_prompt_template_with_points = \"\"\"<|start_header_id|>system<|end_header_id|>You are a public servant. Your task is to reply to a parliamentary question given a list of supporting points.<|eot_id|><|start_header_id|>user<|end_header_id|>\n",
    "Question:{question}\n",
    "\n",
    "Supporting points: {points}\n",
    "\n",
    "<|eot_id|><|start_header_id|>assistant<|end_header_id|>{answer}<|eot_id|><|end_of_text|>\"\"\""
   ]
  },
  {
   "cell_type": "code",
   "execution_count": 19,
   "metadata": {},
   "outputs": [],
   "source": [
    "from tqdm.auto import tqdm\n",
    "import re\n",
    "\n",
    "def format_data(df, output_path, template, include_answer=True):\n",
    "    with output_path.open('w') as f:\n",
    "        for _, row in tqdm(df.iterrows(), total=len(df)):\n",
    "            doc = row.hypothetical_document\n",
    "            formatted_answer = llama3_prompt_template_with_points.format(question=row.question, points=doc, answer=re.sub(\"([Mr|Mrs|Mdm|Ms|Dr].*?:)\", '', row.answer, count=1).strip())                \n",
    "            if not include_answer:\n",
    "                formatted_answer = formatted_answer.rsplit('<|end_header_id|>', maxsplit=1)[0] + '<|end_header_id|>'\n",
    "            f.write(json.dumps({'input': formatted_answer}) + '\\n')\n",
    "    "
   ]
  },
  {
   "cell_type": "code",
   "execution_count": 21,
   "metadata": {},
   "outputs": [
    {
     "data": {
      "application/vnd.jupyter.widget-view+json": {
       "model_id": "dccc2c2fcb0545bbad45b273f4a95676",
       "version_major": 2,
       "version_minor": 0
      },
      "text/plain": [
       "  0%|          | 0/1785 [00:00<?, ?it/s]"
      ]
     },
     "metadata": {},
     "output_type": "display_data"
    },
    {
     "data": {
      "application/vnd.jupyter.widget-view+json": {
       "model_id": "72a8654ce6fa410bad8fbbf3dfcf8f78",
       "version_major": 2,
       "version_minor": 0
      },
      "text/plain": [
       "  0%|          | 0/304 [00:00<?, ?it/s]"
      ]
     },
     "metadata": {},
     "output_type": "display_data"
    },
    {
     "data": {
      "application/vnd.jupyter.widget-view+json": {
       "model_id": "08325b1e2a7d40668f8b789fc17b4802",
       "version_major": 2,
       "version_minor": 0
      },
      "text/plain": [
       "  0%|          | 0/304 [00:00<?, ?it/s]"
      ]
     },
     "metadata": {},
     "output_type": "display_data"
    }
   ],
   "source": [
    "format_data(df_answered_others, output_dir_path / Path(\"hansard_answered_questions_llama3_formatted_train.jsonl\"), llama3_prompt_template_with_points, include_answer=True)\n",
    "format_data(df_answered_2024, output_dir_path / Path(\"hansard_answered_questions_llama3_formatted_test.jsonl\"), llama3_prompt_template_with_points, include_answer=True)\n",
    "format_data(df_answered_2024, output_dir_path / Path(\"hansard_answered_questions_llama3_formatted_test_no_response.jsonl\"), llama3_prompt_template_with_points, include_answer=False)\n"
   ]
  },
  {
   "cell_type": "code",
   "execution_count": null,
   "metadata": {},
   "outputs": [],
   "source": []
  }
 ],
 "metadata": {
  "kernelspec": {
   "display_name": "base",
   "language": "python",
   "name": "python3"
  },
  "language_info": {
   "codemirror_mode": {
    "name": "ipython",
    "version": 3
   },
   "file_extension": ".py",
   "mimetype": "text/x-python",
   "name": "python",
   "nbconvert_exporter": "python",
   "pygments_lexer": "ipython3",
   "version": "3.11.5"
  }
 },
 "nbformat": 4,
 "nbformat_minor": 2
}
