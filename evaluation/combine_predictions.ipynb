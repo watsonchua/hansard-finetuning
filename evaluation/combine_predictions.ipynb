{
 "cells": [
  {
   "cell_type": "markdown",
   "metadata": {},
   "source": [
    "## Combine predictions"
   ]
  },
  {
   "cell_type": "code",
   "execution_count": 1,
   "metadata": {},
   "outputs": [],
   "source": [
    "# file which llama3 and gemma2 predictions are written to\n",
    "from pathlib import Path\n",
    "predictions_root_dir_path = Path(\"/home/watson_chua/efs/hansard_finetuning/data/predictions\")\n",
    "gpt4_zero_shot_predictions_path = predictions_root_dir_path / Path(\"gpt4_answers_zero_shot.jsonl\")\n",
    "gpt4_one_shot_predictions_path = predictions_root_dir_path / Path(\"gpt4_answers_one_shot.jsonl\")\n",
    "llama_predictions_path = predictions_root_dir_path / Path(\"llama3_8b_lora.jsonl\")\n",
    "gemma_predictions_path = predictions_root_dir_path / Path(\"gemma2_9b_lora.jsonl\")\n"
   ]
  },
  {
   "cell_type": "code",
   "execution_count": 2,
   "metadata": {},
   "outputs": [],
   "source": [
    "import json\n",
    "with gpt4_zero_shot_predictions_path.open('r') as f:\n",
    "    gpt4_zero_shot_lines = f.readlines()\n",
    "\n",
    "with gpt4_one_shot_predictions_path.open('r') as f:\n",
    "    gpt4_one_shot_lines = f.readlines()\n",
    "\n",
    "with llama_predictions_path.open('r') as f:\n",
    "    llama_lines = f.readlines()\n",
    "\n",
    "with gemma_predictions_path.open('r') as f:\n",
    "    gemma_lines = f.readlines()\n",
    "\n",
    "\n",
    "gpt4_zero_shot_lines = [json.loads(l) for l in gpt4_zero_shot_lines]\n",
    "gpt4_one_shot_lines = [json.loads(l) for l in gpt4_one_shot_lines]\n",
    "llama_lines = [json.loads(l) for l in llama_lines]\n",
    "gemma_lines = [json.loads(l) for l in gemma_lines]\n"
   ]
  },
  {
   "cell_type": "code",
   "execution_count": 3,
   "metadata": {},
   "outputs": [
    {
     "data": {
      "text/plain": [
       "(304, 304, 304, 304)"
      ]
     },
     "execution_count": 3,
     "metadata": {},
     "output_type": "execute_result"
    }
   ],
   "source": [
    "len(gpt4_zero_shot_lines), len(gpt4_one_shot_lines), len(llama_lines), len(gemma_lines)"
   ]
  },
  {
   "cell_type": "code",
   "execution_count": 7,
   "metadata": {},
   "outputs": [],
   "source": [
    "import pandas as pd \n",
    "df_combined = pd.DataFrame(gpt4_zero_shot_lines)\n",
    "df_combined.rename(columns={'gpt4_answer_by_hy_doc': 'gpt4_zero_shot_answer'}, inplace=True)\n",
    "df_combined['gpt4_one_shot_answer'] = [l['gpt4_answer_by_hy_doc'] for l in gpt4_one_shot_lines]\n",
    "df_combined['llama3_answer'] = [l['generation'] for l in llama_lines]\n",
    "df_combined['gemma2_answer'] = [l['generation'] for l in gemma_lines]"
   ]
  },
  {
   "cell_type": "code",
   "execution_count": 14,
   "metadata": {},
   "outputs": [
    {
     "data": {
      "text/plain": [
       "['Mr Yip Hon Weng asked the Deputy Prime Minister and Minister for Finance whether the Ministry will review the Community Development Council Vouchers scheme to better support larger households by adjusting voucher allocations based on household size. ',\n",
       " 'The Government acknowledges the unique financial pressures faced by larger households and is committed to ensuring that support measures like the Community Development Council (CDC) Vouchers Scheme are equitable and effective. We are currently conducting a thorough review of the CDC Vouchers Scheme to explore enhancements that could better address the needs of larger households. This review includes considerations for scaled voucher distribution based on household size, supplementary allowances for specific needs, and improvements in accessibility and outreach. Our goal is to refine the scheme to provide more tailored support, ensuring that all households receive adequate assistance. We will continue to assess and adapt our measures to meet the evolving needs of our citizens.',\n",
       " 'Reply:\\n\\nThe Government recognizes the unique financial pressures faced by larger households and is committed to regularly reviewing and refining our support measures, including the Community Development Council (CDC) Vouchers Scheme. We are currently analyzing the scheme to explore potential enhancements that could better support larger households. This review includes considerations such as implementing a tiered voucher distribution system, introducing supplementary allowances for households with specific needs, simplifying the application process, expanding partnerships with local merchants, and strengthening community outreach and education programs. We aim to ensure that the CDC Vouchers Scheme meets the evolving needs of all citizens, including those in larger households.',\n",
       " 'While we cannot divulge details of future support measures, the Government will continue to regularly review existing support measures to ensure that they remain relevant and sufficient to meet the needs of Singaporeans. We will take into consideration ways to better support larger households when reviewing the CDC Vouchers scheme.',\n",
       " 'As part of this regular review, the Government will consider ways to better support larger households.<|eot_id|']"
      ]
     },
     "execution_count": 14,
     "metadata": {},
     "output_type": "execute_result"
    }
   ],
   "source": [
    "# check that they are merged correctly and answer the same question\n",
    "df_combined[['question', 'gpt4_zero_shot_answer', 'gpt4_one_shot_answer', 'llama3_answer', 'gemma2_answer']].sample(1).iloc[0].tolist()"
   ]
  },
  {
   "cell_type": "code",
   "execution_count": 15,
   "metadata": {},
   "outputs": [],
   "source": [
    "df_combined.to_csv(predictions_root_dir_path /Path(\"consolidated_predictions.csv\"), index=False)"
   ]
  },
  {
   "cell_type": "code",
   "execution_count": null,
   "metadata": {},
   "outputs": [],
   "source": []
  }
 ],
 "metadata": {
  "kernelspec": {
   "display_name": "Python 3",
   "language": "python",
   "name": "python3"
  },
  "language_info": {
   "codemirror_mode": {
    "name": "ipython",
    "version": 3
   },
   "file_extension": ".py",
   "mimetype": "text/x-python",
   "name": "python",
   "nbconvert_exporter": "python",
   "pygments_lexer": "ipython3",
   "version": "3.11.5"
  }
 },
 "nbformat": 4,
 "nbformat_minor": 2
}
