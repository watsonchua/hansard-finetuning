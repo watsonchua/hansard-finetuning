{
 "cells": [
  {
   "cell_type": "markdown",
   "metadata": {},
   "source": [
    "## Convert Evaluations to JSON"
   ]
  },
  {
   "cell_type": "code",
   "execution_count": 1,
   "metadata": {},
   "outputs": [],
   "source": [
    "import sys\n",
    "sys.path.append(\"../\")\n",
    "from llm_utils.post_processing import replace_inner_quotes, clean_json_output"
   ]
  },
  {
   "cell_type": "code",
   "execution_count": 7,
   "metadata": {},
   "outputs": [],
   "source": [
    "import json\n",
    "import pandas as pd\n",
    "\n",
    "\n",
    "def convert_evaluation_to_df(input_path, evaluation_key):\n",
    "    with open(input_path, 'r') as f:\n",
    "        lines = f.readlines()\n",
    "    json_lines =  [json.loads(l) for l in lines]\n",
    "    df_eval = pd.DataFrame([clean_json_output(l[evaluation_key]) for l in json_lines])\n",
    "    return df_eval"
   ]
  },
  {
   "cell_type": "markdown",
   "metadata": {},
   "source": [
    "### Gemini Eval"
   ]
  },
  {
   "cell_type": "code",
   "execution_count": 8,
   "metadata": {},
   "outputs": [
    {
     "data": {
      "text/plain": [
       "winner\n",
       "b    212\n",
       "a     92\n",
       "Name: count, dtype: int64"
      ]
     },
     "execution_count": 8,
     "metadata": {},
     "output_type": "execute_result"
    }
   ],
   "source": [
    "df_eval = convert_evaluation_to_df(\"/home/watson_chua/efs/axolotl/data/evaluations/hansard/gpt4_normal/gpt4_llama3_evaluation.jsonl\", \"gemini_flash_evaluation\")\n",
    "df_eval[\"winner\"].value_counts()"
   ]
  },
  {
   "cell_type": "code",
   "execution_count": 9,
   "metadata": {},
   "outputs": [
    {
     "data": {
      "text/plain": [
       "winner\n",
       "b    221\n",
       "a     83\n",
       "Name: count, dtype: int64"
      ]
     },
     "execution_count": 9,
     "metadata": {},
     "output_type": "execute_result"
    }
   ],
   "source": [
    "df_eval = convert_evaluation_to_df(\"/home/watson_chua/efs/axolotl/data/evaluations/hansard/gpt4_normal/gpt4_gemma2_evaluation.jsonl\", \"gemini_flash_evaluation\")\n",
    "df_eval[\"winner\"].value_counts()"
   ]
  },
  {
   "cell_type": "code",
   "execution_count": 10,
   "metadata": {},
   "outputs": [
    {
     "data": {
      "text/plain": [
       "winner\n",
       "b    188\n",
       "a    116\n",
       "Name: count, dtype: int64"
      ]
     },
     "execution_count": 10,
     "metadata": {},
     "output_type": "execute_result"
    }
   ],
   "source": [
    "df_eval = convert_evaluation_to_df(\"/home/watson_chua/efs/axolotl/data/evaluations/hansard/gpt4_normal/llama3_gemma2_evaluation.jsonl\", \"gemini_flash_evaluation\")\n",
    "df_eval[\"winner\"].value_counts()"
   ]
  },
  {
   "cell_type": "code",
   "execution_count": 11,
   "metadata": {},
   "outputs": [
    {
     "data": {
      "text/plain": [
       "winner\n",
       "b    192\n",
       "a    112\n",
       "Name: count, dtype: int64"
      ]
     },
     "execution_count": 11,
     "metadata": {},
     "output_type": "execute_result"
    }
   ],
   "source": [
    "df_eval = convert_evaluation_to_df(\"/home/watson_chua/efs/axolotl/data/evaluations/hansard/gpt4_concise/gpt4_llama3_evaluation.jsonl\", \"gemini_flash_evaluation\")\n",
    "df_eval[\"winner\"].value_counts()"
   ]
  },
  {
   "cell_type": "code",
   "execution_count": 12,
   "metadata": {},
   "outputs": [
    {
     "data": {
      "text/plain": [
       "winner\n",
       "b    205\n",
       "a     99\n",
       "Name: count, dtype: int64"
      ]
     },
     "execution_count": 12,
     "metadata": {},
     "output_type": "execute_result"
    }
   ],
   "source": [
    "df_eval = convert_evaluation_to_df(\"/home/watson_chua/efs/axolotl/data/evaluations/hansard/gpt4_concise/gpt4_gemma2_evaluation.jsonl\", \"gemini_flash_evaluation\")\n",
    "df_eval[\"winner\"].value_counts()"
   ]
  },
  {
   "cell_type": "markdown",
   "metadata": {},
   "source": [
    "### Claude Eval"
   ]
  },
  {
   "cell_type": "code",
   "execution_count": 13,
   "metadata": {},
   "outputs": [
    {
     "data": {
      "text/plain": [
       "winner\n",
       "a    212\n",
       "b     92\n",
       "Name: count, dtype: int64"
      ]
     },
     "execution_count": 13,
     "metadata": {},
     "output_type": "execute_result"
    }
   ],
   "source": [
    "df_eval = convert_evaluation_to_df(\"/home/watson_chua/efs/axolotl/data/evaluations/hansard/gpt4_concise/gpt4_gemma2_evaluation_claude.jsonl\", \"claude_evaluation\")\n",
    "df_eval[\"winner\"].value_counts()"
   ]
  },
  {
   "cell_type": "markdown",
   "metadata": {},
   "source": [
    "## Joint Comparison"
   ]
  },
  {
   "cell_type": "code",
   "execution_count": 57,
   "metadata": {},
   "outputs": [],
   "source": [
    "import pandas as pd\n",
    "import json\n",
    "\n",
    "output_root_dir = \"/home/watson_chua/efs/axolotl/data/evaluations/hansard/\"\n",
    "def compare_llms_as_a_judge(subdir, llm1, llm2):\n",
    "    df_gemini = pd.read_csv(output_root_dir + subdir + \"/\" + \"{llm1}_{llm2}_evaluation_outcome.csv\".format(llm1=llm1, llm2=llm2))\n",
    "    df_comparison = df_gemini.copy()\n",
    "    \n",
    "    with open(output_root_dir + subdir + \"/\" + \"{llm1}_{llm2}_evaluation_claude.jsonl\".format(llm1=llm1, llm2=llm2), \"r\") as f:\n",
    "        lines = f.readlines()\n",
    "    json_lines = [json.loads(l) for l in lines]\n",
    "    claude_winner = [json.loads(jl[\"claude_evaluation\"])[\"winner\"].lower().strip() for jl in json_lines]\n",
    "    print(len(lines),len(json_lines), len(claude_winner))\n",
    "    df_comparison[\"claude_winner\"] = claude_winner\n",
    "    df_comparison[\"agree\"] = df_comparison[\"winner\"] == df_comparison[\"claude_winner\"]\n",
    "    \n",
    "    print(df_comparison[\"winner\"].value_counts())\n",
    "    print(df_comparison[\"claude_winner\"].value_counts())\n",
    "    \n",
    "    print(df_comparison[\"agree\"].value_counts())\n",
    "    print(df_comparison[df_comparison[\"agree\"]][\"winner\"].value_counts())\n",
    "\n"
   ]
  },
  {
   "cell_type": "code",
   "execution_count": 62,
   "metadata": {},
   "outputs": [
    {
     "name": "stdout",
     "output_type": "stream",
     "text": [
      "304 304 304\n",
      "winner\n",
      "b    192\n",
      "a    112\n",
      "Name: count, dtype: int64\n",
      "claude_winner\n",
      "a    204\n",
      "b    100\n",
      "Name: count, dtype: int64\n",
      "agree\n",
      "True     180\n",
      "False    124\n",
      "Name: count, dtype: int64\n",
      "winner\n",
      "a    96\n",
      "b    84\n",
      "Name: count, dtype: int64\n"
     ]
    }
   ],
   "source": [
    "compare_llms_as_a_judge(\"gpt4_concise\", \"gpt4\", \"llama3\")\n"
   ]
  },
  {
   "cell_type": "code",
   "execution_count": 63,
   "metadata": {},
   "outputs": [
    {
     "name": "stdout",
     "output_type": "stream",
     "text": [
      "304 304 304\n",
      "winner\n",
      "b    205\n",
      "a     99\n",
      "Name: count, dtype: int64\n",
      "claude_winner\n",
      "a    212\n",
      "b     92\n",
      "Name: count, dtype: int64\n",
      "agree\n",
      "True     159\n",
      "False    145\n",
      "Name: count, dtype: int64\n",
      "winner\n",
      "a    83\n",
      "b    76\n",
      "Name: count, dtype: int64\n"
     ]
    }
   ],
   "source": [
    "compare_llms_as_a_judge(\"gpt4_concise\", \"gpt4\", \"gemma2\")\n"
   ]
  },
  {
   "cell_type": "code",
   "execution_count": 50,
   "metadata": {},
   "outputs": [
    {
     "name": "stdout",
     "output_type": "stream",
     "text": [
      "winner\n",
      "b    218\n",
      "a     86\n",
      "Name: count, dtype: int64\n"
     ]
    }
   ],
   "source": [
    "compare_llms_as_a_judge(\"gpt4_concise\", \"llama3\", \"gemma2\")\n"
   ]
  },
  {
   "cell_type": "code",
   "execution_count": 60,
   "metadata": {},
   "outputs": [
    {
     "name": "stdout",
     "output_type": "stream",
     "text": [
      "304 304 304\n",
      "winner\n",
      "b    212\n",
      "a     92\n",
      "Name: count, dtype: int64\n",
      "claude_winner\n",
      "a    219\n",
      "b     85\n",
      "Name: count, dtype: int64\n",
      "agree\n",
      "False    153\n",
      "True     151\n",
      "Name: count, dtype: int64\n",
      "winner\n",
      "a    79\n",
      "b    72\n",
      "Name: count, dtype: int64\n",
      "None\n"
     ]
    }
   ],
   "source": [
    "print(compare_llms_as_a_judge(\"gpt4_normal\", \"gpt4\", \"llama3\"))\n"
   ]
  },
  {
   "cell_type": "code",
   "execution_count": 59,
   "metadata": {},
   "outputs": [
    {
     "name": "stdout",
     "output_type": "stream",
     "text": [
      "304 304 304\n",
      "winner\n",
      "b    221\n",
      "a     83\n",
      "Name: count, dtype: int64\n",
      "claude_winner\n",
      "a    235\n",
      "b     69\n",
      "Name: count, dtype: int64\n",
      "agree\n",
      "False    168\n",
      "True     136\n",
      "Name: count, dtype: int64\n",
      "winner\n",
      "a    75\n",
      "b    61\n",
      "Name: count, dtype: int64\n",
      "None\n"
     ]
    }
   ],
   "source": [
    "print(compare_llms_as_a_judge(\"gpt4_normal\", \"gpt4\", \"gemma2\"))"
   ]
  },
  {
   "cell_type": "code",
   "execution_count": 61,
   "metadata": {},
   "outputs": [
    {
     "name": "stdout",
     "output_type": "stream",
     "text": [
      "304 304 304\n",
      "winner\n",
      "b    188\n",
      "a    116\n",
      "Name: count, dtype: int64\n",
      "claude_winner\n",
      "b    203\n",
      "a    101\n",
      "Name: count, dtype: int64\n",
      "agree\n",
      "True     197\n",
      "False    107\n",
      "Name: count, dtype: int64\n",
      "winner\n",
      "b    142\n",
      "a     55\n",
      "Name: count, dtype: int64\n",
      "None\n"
     ]
    }
   ],
   "source": [
    "print(compare_llms_as_a_judge(\"gpt4_normal\", \"llama3\", \"gemma2\"))"
   ]
  },
  {
   "cell_type": "markdown",
   "metadata": {},
   "source": [
    "## Compare Ragas"
   ]
  },
  {
   "cell_type": "code",
   "execution_count": 52,
   "metadata": {},
   "outputs": [],
   "source": [
    "output_root_dir = \"/home/watson_chua/efs/axolotl/data/evaluations/hansard/\"\n",
    "def compare_ragas(subdir, llm1):\n",
    "    df_ragas = pd.read_csv(output_root_dir + subdir + \"/\" + \"{llm1}_ragas_claude.csv\".format(llm1=llm1))\n",
    "    print(df_ragas.dropna(how=\"any\",axis=0,subset=[\"faithfulness\", \"answer_relevancy\", \"answer_correctness\"]).mean(numeric_only=True))"
   ]
  },
  {
   "cell_type": "code",
   "execution_count": 53,
   "metadata": {},
   "outputs": [
    {
     "name": "stdout",
     "output_type": "stream",
     "text": [
      "faithfulness          0.840792\n",
      "answer_relevancy      0.669053\n",
      "answer_similarity     0.784777\n",
      "answer_correctness    0.663694\n",
      "dtype: float64\n"
     ]
    }
   ],
   "source": [
    "compare_ragas(\"gpt4_concise\", \"gpt4\")"
   ]
  },
  {
   "cell_type": "code",
   "execution_count": 54,
   "metadata": {},
   "outputs": [
    {
     "name": "stdout",
     "output_type": "stream",
     "text": [
      "faithfulness          0.855116\n",
      "answer_relevancy      0.662348\n",
      "answer_similarity     0.785876\n",
      "answer_correctness    0.653498\n",
      "dtype: float64\n"
     ]
    }
   ],
   "source": [
    "compare_ragas(\"gpt4_normal\", \"gpt4\")"
   ]
  },
  {
   "cell_type": "code",
   "execution_count": 56,
   "metadata": {},
   "outputs": [
    {
     "name": "stdout",
     "output_type": "stream",
     "text": [
      "faithfulness          0.862831\n",
      "answer_relevancy      0.616783\n",
      "answer_similarity     0.807248\n",
      "answer_correctness    0.783219\n",
      "dtype: float64\n"
     ]
    }
   ],
   "source": [
    "compare_ragas(\"gpt4_normal\", \"llama3\")"
   ]
  },
  {
   "cell_type": "code",
   "execution_count": 55,
   "metadata": {},
   "outputs": [
    {
     "name": "stdout",
     "output_type": "stream",
     "text": [
      "faithfulness          0.860389\n",
      "answer_relevancy      0.609027\n",
      "answer_similarity     0.801928\n",
      "answer_correctness    0.782969\n",
      "dtype: float64\n"
     ]
    }
   ],
   "source": [
    "compare_ragas(\"gpt4_normal\", \"gemma2\")"
   ]
  },
  {
   "cell_type": "markdown",
   "metadata": {},
   "source": [
    "## Get specific examples"
   ]
  },
  {
   "cell_type": "code",
   "execution_count": 20,
   "metadata": {},
   "outputs": [],
   "source": [
    "import pandas as pd\n",
    "output_root_dir = \"/home/watson_chua/efs/axolotl/data/evaluations/hansard/\"\n",
    "df_gemini = pd.read_csv(output_root_dir + \"gpt4_normal\" + \"/\" + \"{llm1}_{llm2}_evaluation_outcome.csv\".format(llm1=\"gpt4\", llm2=\"gemma2\"))\n"
   ]
  },
  {
   "cell_type": "code",
   "execution_count": 28,
   "metadata": {},
   "outputs": [
    {
     "data": {
      "text/html": [
       "<div>\n",
       "<style scoped>\n",
       "    .dataframe tbody tr th:only-of-type {\n",
       "        vertical-align: middle;\n",
       "    }\n",
       "\n",
       "    .dataframe tbody tr th {\n",
       "        vertical-align: top;\n",
       "    }\n",
       "\n",
       "    .dataframe thead th {\n",
       "        text-align: right;\n",
       "    }\n",
       "</style>\n",
       "<table border=\"1\" class=\"dataframe\">\n",
       "  <thead>\n",
       "    <tr style=\"text-align: right;\">\n",
       "      <th></th>\n",
       "      <th>winner</th>\n",
       "      <th>reason</th>\n",
       "    </tr>\n",
       "  </thead>\n",
       "  <tbody>\n",
       "    <tr>\n",
       "      <th>0</th>\n",
       "      <td>a</td>\n",
       "      <td>Answer a) is factually correct and concisely a...</td>\n",
       "    </tr>\n",
       "    <tr>\n",
       "      <th>1</th>\n",
       "      <td>a</td>\n",
       "      <td>Answer a) is more concise and covers all the p...</td>\n",
       "    </tr>\n",
       "    <tr>\n",
       "      <th>2</th>\n",
       "      <td>b</td>\n",
       "      <td>Answer b) is slightly better because it is the...</td>\n",
       "    </tr>\n",
       "    <tr>\n",
       "      <th>3</th>\n",
       "      <td>a</td>\n",
       "      <td>Answer a) accurately summarizes the text, high...</td>\n",
       "    </tr>\n",
       "    <tr>\n",
       "      <th>4</th>\n",
       "      <td>a</td>\n",
       "      <td>Answer a) provides a comprehensive response th...</td>\n",
       "    </tr>\n",
       "    <tr>\n",
       "      <th>...</th>\n",
       "      <td>...</td>\n",
       "      <td>...</td>\n",
       "    </tr>\n",
       "    <tr>\n",
       "      <th>299</th>\n",
       "      <td>a</td>\n",
       "      <td>Answer a) provides a more comprehensive overvi...</td>\n",
       "    </tr>\n",
       "    <tr>\n",
       "      <th>300</th>\n",
       "      <td>a</td>\n",
       "      <td>Answer A is more concise and factually correct...</td>\n",
       "    </tr>\n",
       "    <tr>\n",
       "      <th>301</th>\n",
       "      <td>b</td>\n",
       "      <td>Answer b) is the closest to the model answer a...</td>\n",
       "    </tr>\n",
       "    <tr>\n",
       "      <th>302</th>\n",
       "      <td>b</td>\n",
       "      <td>Answer b) more concisely highlights the lack o...</td>\n",
       "    </tr>\n",
       "    <tr>\n",
       "      <th>303</th>\n",
       "      <td>a</td>\n",
       "      <td>Answer a) is more factual as it outlines the s...</td>\n",
       "    </tr>\n",
       "  </tbody>\n",
       "</table>\n",
       "<p>304 rows × 2 columns</p>\n",
       "</div>"
      ],
      "text/plain": [
       "    winner                                             reason\n",
       "0        a  Answer a) is factually correct and concisely a...\n",
       "1        a  Answer a) is more concise and covers all the p...\n",
       "2        b  Answer b) is slightly better because it is the...\n",
       "3        a  Answer a) accurately summarizes the text, high...\n",
       "4        a  Answer a) provides a comprehensive response th...\n",
       "..     ...                                                ...\n",
       "299      a  Answer a) provides a more comprehensive overvi...\n",
       "300      a  Answer A is more concise and factually correct...\n",
       "301      b  Answer b) is the closest to the model answer a...\n",
       "302      b  Answer b) more concisely highlights the lack o...\n",
       "303      a  Answer a) is more factual as it outlines the s...\n",
       "\n",
       "[304 rows x 2 columns]"
      ]
     },
     "execution_count": 28,
     "metadata": {},
     "output_type": "execute_result"
    }
   ],
   "source": [
    "df_gemini"
   ]
  },
  {
   "cell_type": "code",
   "execution_count": 21,
   "metadata": {},
   "outputs": [
    {
     "data": {
      "text/html": [
       "<div>\n",
       "<style scoped>\n",
       "    .dataframe tbody tr th:only-of-type {\n",
       "        vertical-align: middle;\n",
       "    }\n",
       "\n",
       "    .dataframe tbody tr th {\n",
       "        vertical-align: top;\n",
       "    }\n",
       "\n",
       "    .dataframe thead th {\n",
       "        text-align: right;\n",
       "    }\n",
       "</style>\n",
       "<table border=\"1\" class=\"dataframe\">\n",
       "  <thead>\n",
       "    <tr style=\"text-align: right;\">\n",
       "      <th></th>\n",
       "      <th>winner</th>\n",
       "      <th>reason</th>\n",
       "    </tr>\n",
       "  </thead>\n",
       "  <tbody>\n",
       "    <tr>\n",
       "      <th>2</th>\n",
       "      <td>b</td>\n",
       "      <td>Answer b) is slightly better because it is the...</td>\n",
       "    </tr>\n",
       "    <tr>\n",
       "      <th>5</th>\n",
       "      <td>b</td>\n",
       "      <td>Answer b) is more concise, factual, and aligns...</td>\n",
       "    </tr>\n",
       "    <tr>\n",
       "      <th>7</th>\n",
       "      <td>b</td>\n",
       "      <td>Answer B is more concise. Answer A rehashes al...</td>\n",
       "    </tr>\n",
       "    <tr>\n",
       "      <th>9</th>\n",
       "      <td>b</td>\n",
       "      <td>Answer b) is the best because it is more conci...</td>\n",
       "    </tr>\n",
       "    <tr>\n",
       "      <th>10</th>\n",
       "      <td>b</td>\n",
       "      <td>Answer b) is slightly better than answer a) be...</td>\n",
       "    </tr>\n",
       "    <tr>\n",
       "      <th>...</th>\n",
       "      <td>...</td>\n",
       "      <td>...</td>\n",
       "    </tr>\n",
       "    <tr>\n",
       "      <th>295</th>\n",
       "      <td>b</td>\n",
       "      <td>Both answers are factually correct and answer ...</td>\n",
       "    </tr>\n",
       "    <tr>\n",
       "      <th>297</th>\n",
       "      <td>b</td>\n",
       "      <td>Answer b) is more similar to the model answer ...</td>\n",
       "    </tr>\n",
       "    <tr>\n",
       "      <th>298</th>\n",
       "      <td>b</td>\n",
       "      <td>Answer b) is a more concise and better represe...</td>\n",
       "    </tr>\n",
       "    <tr>\n",
       "      <th>301</th>\n",
       "      <td>b</td>\n",
       "      <td>Answer b) is the closest to the model answer a...</td>\n",
       "    </tr>\n",
       "    <tr>\n",
       "      <th>302</th>\n",
       "      <td>b</td>\n",
       "      <td>Answer b) more concisely highlights the lack o...</td>\n",
       "    </tr>\n",
       "  </tbody>\n",
       "</table>\n",
       "<p>221 rows × 2 columns</p>\n",
       "</div>"
      ],
      "text/plain": [
       "    winner                                             reason\n",
       "2        b  Answer b) is slightly better because it is the...\n",
       "5        b  Answer b) is more concise, factual, and aligns...\n",
       "7        b  Answer B is more concise. Answer A rehashes al...\n",
       "9        b  Answer b) is the best because it is more conci...\n",
       "10       b  Answer b) is slightly better than answer a) be...\n",
       "..     ...                                                ...\n",
       "295      b  Both answers are factually correct and answer ...\n",
       "297      b  Answer b) is more similar to the model answer ...\n",
       "298      b  Answer b) is a more concise and better represe...\n",
       "301      b  Answer b) is the closest to the model answer a...\n",
       "302      b  Answer b) more concisely highlights the lack o...\n",
       "\n",
       "[221 rows x 2 columns]"
      ]
     },
     "execution_count": 21,
     "metadata": {},
     "output_type": "execute_result"
    }
   ],
   "source": [
    "df_gemini[df_gemini['winner']=='b']"
   ]
  },
  {
   "cell_type": "code",
   "execution_count": 29,
   "metadata": {},
   "outputs": [
    {
     "data": {
      "text/plain": [
       "\"Answer b) is more concise, factual, and aligns with the model answer. While answer a) provides additional details, it doesn't succinctly address the question posed by Ms. Phua Lay Peng, and lacks the clarity and conciseness of the model answer. Answer b) acknowledges the challenges of applying EASE 2.0 to private homes and reaffirms the Ministry's commitment to supporting seniors in all housing types, mirroring the model answer's approach.\""
      ]
     },
     "execution_count": 29,
     "metadata": {},
     "output_type": "execute_result"
    }
   ],
   "source": [
    "df_gemini.iloc[5]['reason']"
   ]
  },
  {
   "cell_type": "code",
   "execution_count": 22,
   "metadata": {},
   "outputs": [],
   "source": [
    "df_all_predictions = pd.read_csv(output_root_dir + \"gpt4_normal\" + '/consolidated_predictions.csv')\n"
   ]
  },
  {
   "cell_type": "code",
   "execution_count": 23,
   "metadata": {},
   "outputs": [
    {
     "data": {
      "text/plain": [
       "'The Ministry acknowledges the importance of extending senior-friendly fittings to elderly retirees living in non-HDB estates. However, due to the diverse architectural designs and unique challenges associated with private homes, a one-size-fits-all approach is not feasible. The Ministry is committed to exploring viable strategies to address these challenges, including customised assessments, financial assistance, collaboration with industry experts, pilot programmes, and public awareness initiatives. These efforts aim to ensure that all elderly residents, regardless of their housing type, can access the necessary support to age well.'"
      ]
     },
     "execution_count": 23,
     "metadata": {},
     "output_type": "execute_result"
    }
   ],
   "source": [
    "df_all_predictions.iloc[5]['gpt4_answer_by_hy_doc']"
   ]
  },
  {
   "cell_type": "code",
   "execution_count": 24,
   "metadata": {},
   "outputs": [
    {
     "data": {
      "text/plain": [
       "'As both HIP and EASE 2.0 improvements are carried out based on common designs across many units within an HDB block, they cannot easily be extended to private homes where there is great diversity in architecture and layout. Nevertheless, my Ministry will continue to look at ways to better enable seniors living in private homes to age well.<|eot_id|'"
      ]
     },
     "execution_count": 24,
     "metadata": {},
     "output_type": "execute_result"
    }
   ],
   "source": [
    "df_all_predictions.iloc[5]['gemma2_answer']"
   ]
  },
  {
   "cell_type": "code",
   "execution_count": 25,
   "metadata": {},
   "outputs": [
    {
     "data": {
      "text/plain": [
       "\"Mr Desmond Lee: For senior-friendly features within homes, the Housing and Development Board's (HDB's) Home Improvement Programme (HIP) and Enhancement for Active Seniors (EASE) 2.0 programme cover a range of enhancements tailored for HDB flats, which are more standardised. In contrast, the designs and layouts of private homes vary greatly. As such, we will continue to study how seniors living in private homes can be better supported to age well within their homes. \""
      ]
     },
     "execution_count": 25,
     "metadata": {},
     "output_type": "execute_result"
    }
   ],
   "source": [
    "df_all_predictions.iloc[5]['answer']"
   ]
  },
  {
   "cell_type": "code",
   "execution_count": 30,
   "metadata": {},
   "outputs": [
    {
     "data": {
      "text/plain": [
       "\"Ms Denise Phua Lay Peng asked the Minister for National Development whether the senior-friendly fittings under the Housing and Development Board's (HDB's) Enhancement for Active Seniors (EASE) 2.0 programme, which is not applicable to private housing, can be partially or fully extended to eligible elderly retirees living in non-HDB estates.\""
      ]
     },
     "execution_count": 30,
     "metadata": {},
     "output_type": "execute_result"
    }
   ],
   "source": [
    "df_all_predictions.iloc[5]['question']"
   ]
  },
  {
   "cell_type": "code",
   "execution_count": 31,
   "metadata": {},
   "outputs": [
    {
     "data": {
      "text/plain": [
       "\"**Title: Extension of Senior-friendly Fittings in EASE 2.0 Programme to Elderly Living in Non-HDB Estates**\\n\\n**Introduction**\\n\\nThe Housing Development Board (HDB) has long been committed to enhancing the living conditions of Singaporeans, particularly the elderly, through initiatives such as the Home Improvement Programme (HIP) and the Enhancement for Active Seniors (EASE) 2.0. These programmes have been tailored specifically for HDB flats due to their standardised designs, which facilitate the implementation of senior-friendly fittings. However, the diverse architectural landscape of private homes presents unique challenges that require innovative solutions. This report examines the feasibility of extending the EASE 2.0 Programme to elderly residents in non-HDB estates and outlines the Ministry's ongoing efforts to support senior citizens in private residences.\\n\\n**HDB's Home Improvement Programme (HIP) and EASE 2.0: A Proven Model**\\n\\nThe HIP and EASE 2.0 initiatives have been instrumental in ensuring the safety and comfort of elderly residents in HDB flats. The standardisation of HDB flat designs allows for the systematic installation of senior-friendly enhancements such as grab bars, slip-resistant treatment for bathroom floors, and ramps to address level differences. These modifications significantly reduce the risk of falls and other accidents, promoting a safer living environment for seniors.\\n\\nEASE 2.0 builds upon the success of the initial EASE programme by incorporating more advanced features, such as push-button systems for emergency assistance and improved lighting solutions to enhance visibility. The programme's success is evident in the positive feedback from elderly residents and their families, who have reported increased peace of mind and a higher quality of life.\\n\\n**Challenges in Extending EASE 2.0 to Private Homes**\\n\\nUnlike HDB flats, private homes in Singapore exhibit a wide range of architectural designs and layouts, making it difficult to apply a one-size-fits-all approach to senior-friendly modifications. Factors such as varying floor plans, different construction materials, and unique aesthetic considerations complicate the implementation of standardised enhancements.\\n\\nPrivate residences often feature multiple levels, intricate staircases, and custom-built fixtures that require tailored solutions. Additionally, the cost of retrofitting these homes can be significantly higher due to the need for bespoke modifications and the involvement of specialised contractors.\\n\\n**Ministry's Ongoing Efforts and Future Directions**\\n\\nDespite these challenges, the Ministry remains committed to ensuring that all elderly residents, regardless of their housing type, have access to the necessary support to age well. To this end, the Ministry has initiated a comprehensive study to explore viable strategies for extending the benefits of EASE 2.0 to private homes.\\n\\n1. **Customised Assessment and Recommendations**: The Ministry is considering the introduction of a customised assessment programme for private homes. This programme would involve professional assessors who can evaluate the specific needs of each residence and recommend appropriate modifications. These recommendations would take into account the home's unique design features and the individual requirements of the elderly occupants.\\n\\n2. **Subsidies and Financial Assistance**: Recognising the potential financial burden of retrofitting private homes, the Ministry is exploring various subsidy schemes and financial assistance programmes. These initiatives aim to alleviate the cost of modifications for elderly residents and their families, ensuring that financial constraints do not hinder access to necessary enhancements.\\n\\n3. **Collaboration with Industry Experts**: To develop effective solutions, the Ministry is engaging with architects, contractors, and design experts who specialise in senior-friendly modifications. These collaborations will facilitate the creation of innovative and practical solutions tailored to the diverse range of private homes in Singapore.\\n\\n4. **Pilot Programmes and Case Studies**: The Ministry plans to launch pilot programmes to test the feasibility of different modifications in a variety of private home settings. These pilot programmes will provide valuable insights and help refine the approach before a broader implementation. Additionally, case studies of successful modifications will be documented and shared to guide future efforts.\\n\\n5. **Public Awareness and Education**: Educating homeowners about the importance of senior-friendly modifications is crucial. The Ministry will initiate public awareness campaigns to highlight the benefits of such enhancements and provide guidance on how to implement them effectively. Workshops and seminars will be organised to equip homeowners with the knowledge and resources needed to make informed decisions.\\n\\n**Conclusion**\\n\\nExtending the EASE 2.0 Programme to elderly residents in non-HDB estates is a complex but essential endeavour. The Ministry's commitment to studying and developing tailored solutions underscores our dedication to supporting all seniors in Singapore to age well. By leveraging customised assessments, financial assistance, industry collaborations, pilot programmes, and public education, we aim to create a safer and more inclusive living environment for our elderly population, regardless of their housing type. The journey ahead may be challenging, but with concerted efforts and innovative approaches, we can ensure that every senior citizen in Singapore enjoys a high quality of life in their golden years.\""
      ]
     },
     "execution_count": 31,
     "metadata": {},
     "output_type": "execute_result"
    }
   ],
   "source": [
    "df_all_predictions.iloc[5]['hypothetical_document']"
   ]
  },
  {
   "cell_type": "code",
   "execution_count": null,
   "metadata": {},
   "outputs": [],
   "source": []
  }
 ],
 "metadata": {
  "kernelspec": {
   "display_name": "base",
   "language": "python",
   "name": "python3"
  },
  "language_info": {
   "codemirror_mode": {
    "name": "ipython",
    "version": 3
   },
   "file_extension": ".py",
   "mimetype": "text/x-python",
   "name": "python",
   "nbconvert_exporter": "python",
   "pygments_lexer": "ipython3",
   "version": "3.11.5"
  }
 },
 "nbformat": 4,
 "nbformat_minor": 2
}
