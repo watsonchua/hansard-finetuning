{
 "cells": [
  {
   "cell_type": "code",
   "execution_count": 1,
   "id": "56fbca9a-6e8f-4f66-b56f-1bc3f9a37f49",
   "metadata": {},
   "outputs": [],
   "source": [
    "import json"
   ]
  },
  {
   "cell_type": "code",
   "execution_count": 2,
   "id": "18a2575a-db7d-40c5-92ca-45f0b2e553ce",
   "metadata": {},
   "outputs": [],
   "source": [
    "with open('docs/sitting_2024-05-08.json', 'r') as f:\n",
    "    data = json.load(f)"
   ]
  },
  {
   "cell_type": "code",
   "execution_count": 12,
   "id": "4acc3de4-85b8-407f-8b59-f0e943effc84",
   "metadata": {},
   "outputs": [],
   "source": [
    "wa_list = [d for d in data['takesSectionVOList'] if d['sectionType'].lower().startswith('wa')]"
   ]
  },
  {
   "cell_type": "code",
   "execution_count": null,
   "id": "5e46649a-140e-4f3f-b893-6a5fcf3076c3",
   "metadata": {},
   "outputs": [],
   "source": [
    "wa_list"
   ]
  },
  {
   "cell_type": "code",
   "execution_count": 15,
   "id": "dcddbdcf-e18a-44b7-8ef1-e6108348a9f2",
   "metadata": {},
   "outputs": [
    {
     "data": {
      "text/plain": [
       "['<p>14 <strong>Ms See Jinli Jean</strong> asked the Minister for Education (a) for the past three years, what is the breakdown by sector for the (i) percentage of workforce utilising the Skills Development Fund (SDF) and (ii) average ratio of the SDF utilised to the Skills Development Levy (SDL) collected, for full-time, part-time and casual workers respectively; and (b) how does the Ministry expect the average ratio of the utilisation of the SDF to the SDL for the different sectors and workers to change in view of broad-based technology-intensification.</p><p>15 <strong>Ms See Jinli Jean</strong> asked the Minister for Education in respect of Skills Development Fund usage, whether the Ministry will consider (i) enhancing course fee subsidy level for individual sponsored learners and (ii) lowering the minimum age for them to qualify for course fee subsidy.',\n",
       " 'Mr Chan Chun Sing</strong>:&nbsp;The Skills Development Fund (SDF) is a consolidated fund that supports local workforce development. It is made up of the Skills Development Levy (SDL) contributions from employers and top-ups by the Government from time to time. On average, over the past three years from FY2020 to FY2022, around $290 million SDL contributions have been collected from employers annually.</p><p class=\"ql-align-justify\">The SDF is one of the sources of funds for Government spending on upskilling and reskilling of Singaporeans. From FY2020 to FY2022, the Government spent an average of around $1.02 billion annually, including $370 million from the SDF, to support workforce upskilling in grants to institutions, training providers and companies. Besides the SDF, the Government draws from funding from the Lifelong Learning Endowment Fund (LLEF), the National Productivity Fund (NPF), as well Ministries\\' budgets, for instance for sector-specific investments, such as the TechSkills Accelerator (TeSA), for the tech sector.&nbsp;&nbsp;&nbsp;</p><p class=\"ql-align-justify\">SkillsFuture Singapore (SSG) administers the SDF and works closely with other Government agencies to support upskilling of the local workforce across all sectors. It is not meaningful to compare SDF utilisation across sectors, which have different manpower and skills needs. Many of the courses that the SDF supports are also not sector-specific. For instance, courses on Critical Core Skills and digital adoption are relevant across multiple sectors. We do not differentiate applicants based on employment status and do not collect data on whether the learner is a full-time, part-time or casual worker.</p><p class=\"ql-align-justify\">Today, SSG\\'s course fee subsidies go up to 70% of course fees for Singaporeans and Permanent Residents below the age of 40; and up to 90% for Singaporeans aged 40 and above. The level of subsidy is tiered, with higher subsidies for programmes that deliver stronger manpower outcomes.</p><p class=\"ql-align-justify\">Currently, we have no plans to raise the levels of these subsidies. There is no need to lower the age criteria, as there is no minimum qualifying age to tap on the subsidies. We will continue to use SDF prudently and work with other Government agencies and the industry to support meaningful lifelong learning and upskilling of Singaporeans.</p>']"
      ]
     },
     "execution_count": 15,
     "metadata": {},
     "output_type": "execute_result"
    }
   ],
   "source": [
    "wa_list[0]['content'].split('</p><p><strong>')"
   ]
  },
  {
   "cell_type": "code",
   "execution_count": 41,
   "id": "08758dfa-46ab-4d79-a5a0-3da12993f675",
   "metadata": {},
   "outputs": [],
   "source": [
    "contents = wa_list[0]['content']\n",
    "from bs4 import BeautifulSoup\n",
    "soup_list = [BeautifulSoup(c, \"html.parser\") for c in contents.split('</p><p><strong>')]"
   ]
  },
  {
   "cell_type": "code",
   "execution_count": 42,
   "id": "137540f2-4458-48ae-8121-70ecdc93b681",
   "metadata": {},
   "outputs": [
    {
     "data": {
      "text/plain": [
       "['14 Ms See Jinli Jean asked the Minister for Education (a) for the past three years, what is the breakdown by sector for the (i) percentage of workforce utilising the Skills Development Fund (SDF) and (ii) average ratio of the SDF utilised to the Skills Development Levy (SDL) collected, for full-time, part-time and casual workers respectively; and (b) how does the Ministry expect the average ratio of the utilisation of the SDF to the SDL for the different sectors and workers to change in view of broad-based technology-intensification.15 Ms See Jinli Jean asked the Minister for Education in respect of Skills Development Fund usage, whether the Ministry will consider (i) enhancing course fee subsidy level for individual sponsored learners and (ii) lowering the minimum age for them to qualify for course fee subsidy.',\n",
       " \"Mr Chan Chun Sing:\\xa0The Skills Development Fund (SDF) is a consolidated fund that supports local workforce development. It is made up of the Skills Development Levy (SDL) contributions from employers and top-ups by the Government from time to time. On average, over the past three years from FY2020 to FY2022, around $290 million SDL contributions have been collected from employers annually.The SDF is one of the sources of funds for Government spending on upskilling and reskilling of Singaporeans. From FY2020 to FY2022, the Government spent an average of around $1.02 billion annually, including $370 million from the SDF, to support workforce upskilling in grants to institutions, training providers and companies. Besides the SDF, the Government draws from funding from the Lifelong Learning Endowment Fund (LLEF), the National Productivity Fund (NPF), as well Ministries' budgets, for instance for sector-specific investments, such as the TechSkills Accelerator (TeSA), for the tech sector.\\xa0\\xa0\\xa0SkillsFuture Singapore (SSG) administers the SDF and works closely with other Government agencies to support upskilling of the local workforce across all sectors. It is not meaningful to compare SDF utilisation across sectors, which have different manpower and skills needs. Many of the courses that the SDF supports are also not sector-specific. For instance, courses on Critical Core Skills and digital adoption are relevant across multiple sectors. We do not differentiate applicants based on employment status and do not collect data on whether the learner is a full-time, part-time or casual worker.Today, SSG's course fee subsidies go up to 70% of course fees for Singaporeans and Permanent Residents below the age of 40; and up to 90% for Singaporeans aged 40 and above. The level of subsidy is tiered, with higher subsidies for programmes that deliver stronger manpower outcomes.Currently, we have no plans to raise the levels of these subsidies. There is no need to lower the age criteria, as there is no minimum qualifying age to tap on the subsidies. We will continue to use SDF prudently and work with other Government agencies and the industry to support meaningful lifelong learning and upskilling of Singaporeans.\"]"
      ]
     },
     "execution_count": 42,
     "metadata": {},
     "output_type": "execute_result"
    }
   ],
   "source": [
    "[s.text for s in soup_list]"
   ]
  },
  {
   "cell_type": "code",
   "execution_count": 23,
   "id": "b88c5bd0-049a-4609-bfee-33d914f1cacb",
   "metadata": {},
   "outputs": [],
   "source": [
    "import re"
   ]
  },
  {
   "cell_type": "code",
   "execution_count": 43,
   "id": "1a56db4d-2426-47d3-89c5-21896f4755a8",
   "metadata": {},
   "outputs": [
    {
     "data": {
      "text/plain": [
       "['',\n",
       " '14 <strong>Ms See Jinli Jean</strong> asked the Minister for Education (a) for the past three years, what is the breakdown by sector for the (i) percentage of workforce utilising the Skills Development Fund (SDF) and (ii) average ratio of the SDF utilised to the Skills Development Levy (SDL) collected, for full-time, part-time and casual workers respectively; and (b) how does the Ministry expect the average ratio of the utilisation of the SDF to the SDL for the different sectors and workers to change in view of broad-based technology-intensification.</p>',\n",
       " '15 <strong>Ms See Jinli Jean</strong> asked the Minister for Education in respect of Skills Development Fund usage, whether the Ministry will consider (i) enhancing course fee subsidy level for individual sponsored learners and (ii) lowering the minimum age for them to qualify for course fee subsidy.</p>',\n",
       " '<strong>Mr Chan Chun Sing</strong>:&nbsp;The Skills Development Fund (SDF) is a consolidated fund that supports local workforce development. It is made up of the Skills Development Levy (SDL) contributions from employers and top-ups by the Government from time to time. On average, over the past three years from FY2020 to FY2022, around $290 million SDL contributions have been collected from employers annually.</p><p class=\"ql-align-justify\">The SDF is one of the sources of funds for Government spending on upskilling and reskilling of Singaporeans. From FY2020 to FY2022, the Government spent an average of around $1.02 billion annually, including $370 million from the SDF, to support workforce upskilling in grants to institutions, training providers and companies. Besides the SDF, the Government draws from funding from the Lifelong Learning Endowment Fund (LLEF), the National Productivity Fund (NPF), as well Ministries\\' budgets, for instance for sector-specific investments, such as the TechSkills Accelerator (TeSA), for the tech sector.&nbsp;&nbsp;&nbsp;</p><p class=\"ql-align-justify\">SkillsFuture Singapore (SSG) administers the SDF and works closely with other Government agencies to support upskilling of the local workforce across all sectors. It is not meaningful to compare SDF utilisation across sectors, which have different manpower and skills needs. Many of the courses that the SDF supports are also not sector-specific. For instance, courses on Critical Core Skills and digital adoption are relevant across multiple sectors. We do not differentiate applicants based on employment status and do not collect data on whether the learner is a full-time, part-time or casual worker.</p><p class=\"ql-align-justify\">Today, SSG\\'s course fee subsidies go up to 70% of course fees for Singaporeans and Permanent Residents below the age of 40; and up to 90% for Singaporeans aged 40 and above. The level of subsidy is tiered, with higher subsidies for programmes that deliver stronger manpower outcomes.</p><p class=\"ql-align-justify\">Currently, we have no plans to raise the levels of these subsidies. There is no need to lower the age criteria, as there is no minimum qualifying age to tap on the subsidies. We will continue to use SDF prudently and work with other Government agencies and the industry to support meaningful lifelong learning and upskilling of Singaporeans.</p>']"
      ]
     },
     "execution_count": 43,
     "metadata": {},
     "output_type": "execute_result"
    }
   ],
   "source": [
    "contents.split('<p>')"
   ]
  },
  {
   "cell_type": "code",
   "execution_count": 30,
   "id": "8ed62640-7908-4b1c-afa8-09b308c03adc",
   "metadata": {},
   "outputs": [
    {
     "data": {
      "text/plain": [
       "<re.Match object; span=(0, 3270), match='<p>14 <strong>Ms See Jinli Jean</strong> asked th>"
      ]
     },
     "execution_count": 30,
     "metadata": {},
     "output_type": "execute_result"
    }
   ],
   "source": [
    "re.match(r\"<p.*>(.*)</p>\", wa_list[0]['content'])"
   ]
  },
  {
   "cell_type": "code",
   "execution_count": 39,
   "id": "fe4c9325-6d46-4c0b-a7e9-690a8e627f9d",
   "metadata": {},
   "outputs": [],
   "source": []
  },
  {
   "cell_type": "code",
   "execution_count": 40,
   "id": "fcf0c78f-11f9-4b8d-85f7-1e5e6e57d40e",
   "metadata": {},
   "outputs": [
    {
     "ename": "UnboundLocalError",
     "evalue": "local variable 'html_text' referenced before assignment",
     "output_type": "error",
     "traceback": [
      "\u001b[0;31m---------------------------------------------------------------------------\u001b[0m",
      "\u001b[0;31mUnboundLocalError\u001b[0m                         Traceback (most recent call last)",
      "Cell \u001b[0;32mIn [40], line 1\u001b[0m\n\u001b[0;32m----> 1\u001b[0m \u001b[43mparse_content\u001b[49m\u001b[43m(\u001b[49m\u001b[43mwa_list\u001b[49m\u001b[43m[\u001b[49m\u001b[38;5;241;43m0\u001b[39;49m\u001b[43m]\u001b[49m\u001b[43m[\u001b[49m\u001b[38;5;124;43m'\u001b[39;49m\u001b[38;5;124;43mcontent\u001b[39;49m\u001b[38;5;124;43m'\u001b[39;49m\u001b[43m]\u001b[49m\u001b[43m)\u001b[49m\n",
      "Cell \u001b[0;32mIn [39], line 3\u001b[0m, in \u001b[0;36mparse_content\u001b[0;34m(content)\u001b[0m\n\u001b[1;32m      1\u001b[0m \u001b[38;5;28;01mdef\u001b[39;00m \u001b[38;5;21mparse_content\u001b[39m(content):\n\u001b[1;32m      2\u001b[0m     iter_content \u001b[38;5;241m=\u001b[39m re\u001b[38;5;241m.\u001b[39mfindall(\u001b[38;5;124m'\u001b[39m\u001b[38;5;124mp\u001b[39m\u001b[38;5;124m'\u001b[39m, content)\n\u001b[0;32m----> 3\u001b[0m     html_text \u001b[38;5;241m=\u001b[39m re\u001b[38;5;241m.\u001b[39msub(\u001b[38;5;124m'\u001b[39m\u001b[38;5;124m<p[ ].*?>\u001b[39m\u001b[38;5;124m'\u001b[39m, \u001b[38;5;124m'\u001b[39m\u001b[38;5;124m<p>\u001b[39m\u001b[38;5;124m'\u001b[39m, \u001b[43mhtml_text\u001b[49m)\n\u001b[1;32m      4\u001b[0m     i \u001b[38;5;241m=\u001b[39m BeautifulSoup(html_text\u001b[38;5;241m.\u001b[39msplit(\u001b[38;5;124m'\u001b[39m\u001b[38;5;124m<p>\u001b[39m\u001b[38;5;124m'\u001b[39m)[\u001b[38;5;241m1\u001b[39m], \u001b[38;5;124m\"\u001b[39m\u001b[38;5;124mhtml.parser\u001b[39m\u001b[38;5;124m\"\u001b[39m)\n\u001b[1;32m      6\u001b[0m     \u001b[38;5;66;03m# sent, speaker, iter_content = get_speaker_and_speech(sent, i, speaker, iter_content)\u001b[39;00m\n",
      "\u001b[0;31mUnboundLocalError\u001b[0m: local variable 'html_text' referenced before assignment"
     ]
    }
   ],
   "source": [
    "parse_content(wa_list[0]['content'])"
   ]
  },
  {
   "cell_type": "code",
   "execution_count": 205,
   "id": "f61773a1-2450-437b-bd02-5ba4c178d015",
   "metadata": {},
   "outputs": [],
   "source": [
    "from typing import List\n",
    "from utils.parse_hansard import HansardInfo, convert_lang, rm_em_italics, rm_strong, preprocess_htmlFullContent\n",
    "import logging\n",
    "from pathlib import Path\n",
    "\n",
    "logger = logging.getLogger('extract-speech')\n",
    "\n",
    "\n",
    "def convert_to_question_answer_pairs(input_path: str):\n",
    "    \"\"\"For 2020 hansard format, where the text is in field takesSectionVOList\n",
    "\n",
    "    Args:\n",
    "        data (dict): hansard json read as dictionary\n",
    "        hansard_info_list (List(HansardInfo)): list of HansardInfo extracted to append to\n",
    "        filename (str): Name of the hansard file\n",
    "    Returns:\n",
    "        hansard_info_list\n",
    "    \"\"\"\n",
    "    \n",
    "    filename = Path(input_path).stem\n",
    "    \n",
    "    \n",
    "    with open(input_path, 'r') as f:\n",
    "        data = json.load(f)\n",
    "    \n",
    "    all_dialogues = []\n",
    "    \n",
    "    for idx, article in enumerate(data['takesSectionVOList']):\n",
    "        title = article['title']\n",
    "        subtitle = article['subTitle']\n",
    "        section = article['sectionType']\n",
    "        if not section.lower().startswith('wa'):\n",
    "            continue\n",
    "            \n",
    "        # print the before and after processing\n",
    "        logger.debug(\"Filename: %s\", filename)\n",
    "        logger.debug(\"%s\\nORIGINAL %s:\\n%s\\nREMOVED %s:\\n%s\", title, idx, article['content'], idx , convert_lang(rm_em_italics(rm_strong(preprocess_htmlFullContent(article['content'])))))\n",
    "        content = BeautifulSoup(convert_lang(rm_em_italics(rm_strong(preprocess_htmlFullContent(article['content'])))), \"html.parser\")\n",
    "\n",
    "        # all ps in current article\n",
    "        iter_content = content.find_all(['p'])\n",
    "        article_dialogues = []\n",
    "        \n",
    "        # tracker for current speaker\n",
    "        cur_speaker_content = \"\"\n",
    "        cur_speaker = \"\"\n",
    "\n",
    "        # while iter_content:\n",
    "        for ic in iter_content:\n",
    "            speakers = ic.find_all(['strong'])\n",
    "            if speakers:\n",
    "                speaker = speakers[0].text #assuming one speaker per para\n",
    "                content_no_speaker = ic.text[ic.text.index(speaker):]\n",
    "            \n",
    "            else:\n",
    "                speaker = \"\"\n",
    "                content_no_speaker = ic.text\n",
    "                \n",
    "            \n",
    "            \n",
    "            if speaker and speaker != cur_speaker:\n",
    "                article_dialogues.append({'speaker': cur_speaker, 'content': cur_speaker_content, 'title': title, 'subtitle': subtitle, 'section': section, 'filename': filename})\n",
    "                \n",
    "                cur_speaker = speaker\n",
    "                cur_speaker_content = content_no_speaker\n",
    "            else:                \n",
    "                cur_speaker_content += \"\\n\" + content_no_speaker\n",
    "                \n",
    "        # add the last one\n",
    "        article_dialogues.append({'speaker': cur_speaker, 'content': content_no_speaker, 'title': title, 'subtitle': subtitle, 'section': section, 'filename': filename})\n",
    "    \n",
    "        all_dialogues.append(article_dialogues[1:])\n",
    "        \n",
    "    consolidated_dialogues = []\n",
    "    for dialogue in all_dialogues:\n",
    "        if len(dialogue) != 2:\n",
    "            print('Number of speakers is not 2', 'skipping')\n",
    "            # print(dialogue)\n",
    "            continue\n",
    "\n",
    "        consolidated_dialogues.append({'title': dialogue[0]['title'], \n",
    "                            'subtitle':  dialogue[0]['subtitle'], \n",
    "                            'question_speaker': dialogue[0]['speaker'], \n",
    "                            'answer_speaker': dialogue[1]['speaker'], \n",
    "                            'question': dialogue[0]['content'], \n",
    "                            'answer': dialogue[1]['content'],\n",
    "                            'filename': dialogue[0]['filename']\n",
    "                            })\n",
    "        \n",
    "    return consolidated_dialogues                              "
   ]
  },
  {
   "cell_type": "code",
   "execution_count": 177,
   "id": "b5c2b3e3-bfe9-47a5-bf74-176e22278465",
   "metadata": {},
   "outputs": [
    {
     "name": "stdout",
     "output_type": "stream",
     "text": [
      "Number of speakers is not 2 skipping\n",
      "Number of speakers is not 2 skipping\n",
      "Number of speakers is not 2 skipping\n"
     ]
    }
   ],
   "source": [
    "consolidated_dialogues = convert_to_question_answer_pairs(\"docs/sitting_2024-05-08.json\")"
   ]
  },
  {
   "cell_type": "code",
   "execution_count": null,
   "id": "28267126-012c-4cfe-a932-9d32b08f574b",
   "metadata": {},
   "outputs": [],
   "source": [
    "consolidated_dialogues[:5]"
   ]
  },
  {
   "cell_type": "code",
   "execution_count": 206,
   "id": "67b2ac89-f227-4c77-90f2-3c82c2ebf818",
   "metadata": {},
   "outputs": [],
   "source": [
    "from pathlib import Path\n",
    "input_path = Path('docs/')"
   ]
  },
  {
   "cell_type": "code",
   "execution_count": 207,
   "id": "445359af-fc75-468c-9c66-b326d478a11a",
   "metadata": {},
   "outputs": [],
   "source": [
    "hansard_2020_paths = input_path.glob('sitting_202*.json')"
   ]
  },
  {
   "cell_type": "code",
   "execution_count": 208,
   "id": "ff4fed82-989b-4177-9584-0daf683864e5",
   "metadata": {},
   "outputs": [
    {
     "name": "stdout",
     "output_type": "stream",
     "text": [
      "Number of speakers is not 2 skipping\n",
      "Number of speakers is not 2 skipping\n",
      "Number of speakers is not 2 skipping\n",
      "Number of speakers is not 2 skipping\n",
      "Number of speakers is not 2 skipping\n",
      "Number of speakers is not 2 skipping\n",
      "Number of speakers is not 2 skipping\n",
      "Number of speakers is not 2 skipping\n",
      "Number of speakers is not 2 skipping\n",
      "Number of speakers is not 2 skipping\n",
      "Number of speakers is not 2 skipping\n",
      "Number of speakers is not 2 skipping\n",
      "Number of speakers is not 2 skipping\n",
      "Number of speakers is not 2 skipping\n",
      "Number of speakers is not 2 skipping\n",
      "Number of speakers is not 2 skipping\n",
      "Number of speakers is not 2 skipping\n",
      "Number of speakers is not 2 skipping\n",
      "Number of speakers is not 2 skipping\n",
      "Number of speakers is not 2 skipping\n",
      "Number of speakers is not 2 skipping\n",
      "Number of speakers is not 2 skipping\n",
      "Number of speakers is not 2 skipping\n",
      "Number of speakers is not 2 skipping\n",
      "Number of speakers is not 2 skipping\n",
      "Number of speakers is not 2 skipping\n",
      "Number of speakers is not 2 skipping\n",
      "Number of speakers is not 2 skipping\n",
      "Number of speakers is not 2 skipping\n",
      "Number of speakers is not 2 skipping\n",
      "Number of speakers is not 2 skipping\n",
      "Number of speakers is not 2 skipping\n",
      "Number of speakers is not 2 skipping\n",
      "Number of speakers is not 2 skipping\n",
      "Number of speakers is not 2 skipping\n",
      "Number of speakers is not 2 skipping\n",
      "Number of speakers is not 2 skipping\n",
      "Number of speakers is not 2 skipping\n",
      "Number of speakers is not 2 skipping\n",
      "Number of speakers is not 2 skipping\n",
      "Number of speakers is not 2 skipping\n",
      "Number of speakers is not 2 skipping\n",
      "Number of speakers is not 2 skipping\n",
      "Number of speakers is not 2 skipping\n",
      "Number of speakers is not 2 skipping\n",
      "Number of speakers is not 2 skipping\n",
      "Number of speakers is not 2 skipping\n",
      "Number of speakers is not 2 skipping\n",
      "Number of speakers is not 2 skipping\n",
      "Number of speakers is not 2 skipping\n",
      "Number of speakers is not 2 skipping\n",
      "Number of speakers is not 2 skipping\n",
      "Number of speakers is not 2 skipping\n",
      "Number of speakers is not 2 skipping\n",
      "Number of speakers is not 2 skipping\n",
      "Number of speakers is not 2 skipping\n",
      "Number of speakers is not 2 skipping\n",
      "Number of speakers is not 2 skipping\n",
      "Number of speakers is not 2 skipping\n",
      "Number of speakers is not 2 skipping\n",
      "Number of speakers is not 2 skipping\n",
      "Number of speakers is not 2 skipping\n",
      "Number of speakers is not 2 skipping\n",
      "Number of speakers is not 2 skipping\n",
      "Number of speakers is not 2 skipping\n",
      "Number of speakers is not 2 skipping\n",
      "Number of speakers is not 2 skipping\n",
      "Number of speakers is not 2 skipping\n",
      "Number of speakers is not 2 skipping\n",
      "Number of speakers is not 2 skipping\n",
      "Number of speakers is not 2 skipping\n",
      "Number of speakers is not 2 skipping\n",
      "Number of speakers is not 2 skipping\n",
      "Number of speakers is not 2 skipping\n",
      "Number of speakers is not 2 skipping\n",
      "Number of speakers is not 2 skipping\n",
      "Number of speakers is not 2 skipping\n",
      "Number of speakers is not 2 skipping\n",
      "Number of speakers is not 2 skipping\n",
      "Number of speakers is not 2 skipping\n",
      "Number of speakers is not 2 skipping\n",
      "Number of speakers is not 2 skipping\n",
      "Number of speakers is not 2 skipping\n",
      "Number of speakers is not 2 skipping\n",
      "Number of speakers is not 2 skipping\n",
      "Number of speakers is not 2 skipping\n",
      "Number of speakers is not 2 skipping\n",
      "Number of speakers is not 2 skipping\n",
      "Number of speakers is not 2 skipping\n",
      "Number of speakers is not 2 skipping\n",
      "Number of speakers is not 2 skipping\n",
      "Number of speakers is not 2 skipping\n",
      "Number of speakers is not 2 skipping\n",
      "Number of speakers is not 2 skipping\n",
      "Number of speakers is not 2 skipping\n",
      "Number of speakers is not 2 skipping\n",
      "Number of speakers is not 2 skipping\n",
      "Number of speakers is not 2 skipping\n",
      "Number of speakers is not 2 skipping\n",
      "Number of speakers is not 2 skipping\n",
      "Number of speakers is not 2 skipping\n",
      "Number of speakers is not 2 skipping\n",
      "Number of speakers is not 2 skipping\n",
      "Number of speakers is not 2 skipping\n",
      "Number of speakers is not 2 skipping\n",
      "Number of speakers is not 2 skipping\n",
      "Number of speakers is not 2 skipping\n",
      "Number of speakers is not 2 skipping\n",
      "Number of speakers is not 2 skipping\n",
      "Number of speakers is not 2 skipping\n",
      "Number of speakers is not 2 skipping\n",
      "Number of speakers is not 2 skipping\n",
      "Number of speakers is not 2 skipping\n",
      "Number of speakers is not 2 skipping\n",
      "Number of speakers is not 2 skipping\n",
      "Number of speakers is not 2 skipping\n",
      "Number of speakers is not 2 skipping\n",
      "Number of speakers is not 2 skipping\n",
      "Number of speakers is not 2 skipping\n",
      "Number of speakers is not 2 skipping\n",
      "Number of speakers is not 2 skipping\n",
      "Number of speakers is not 2 skipping\n",
      "Number of speakers is not 2 skipping\n",
      "Number of speakers is not 2 skipping\n",
      "Number of speakers is not 2 skipping\n",
      "Number of speakers is not 2 skipping\n",
      "Number of speakers is not 2 skipping\n",
      "Number of speakers is not 2 skipping\n",
      "Number of speakers is not 2 skipping\n",
      "Number of speakers is not 2 skipping\n",
      "Number of speakers is not 2 skipping\n",
      "Number of speakers is not 2 skipping\n",
      "Number of speakers is not 2 skipping\n",
      "Number of speakers is not 2 skipping\n",
      "Number of speakers is not 2 skipping\n",
      "Number of speakers is not 2 skipping\n",
      "Number of speakers is not 2 skipping\n",
      "Number of speakers is not 2 skipping\n",
      "Number of speakers is not 2 skipping\n",
      "Number of speakers is not 2 skipping\n",
      "Number of speakers is not 2 skipping\n",
      "Number of speakers is not 2 skipping\n",
      "Number of speakers is not 2 skipping\n",
      "Number of speakers is not 2 skipping\n",
      "Number of speakers is not 2 skipping\n",
      "Number of speakers is not 2 skipping\n",
      "Number of speakers is not 2 skipping\n",
      "Number of speakers is not 2 skipping\n",
      "Number of speakers is not 2 skipping\n",
      "Number of speakers is not 2 skipping\n",
      "Number of speakers is not 2 skipping\n",
      "Number of speakers is not 2 skipping\n",
      "Number of speakers is not 2 skipping\n",
      "Number of speakers is not 2 skipping\n",
      "Number of speakers is not 2 skipping\n",
      "Number of speakers is not 2 skipping\n",
      "Number of speakers is not 2 skipping\n",
      "Number of speakers is not 2 skipping\n",
      "Number of speakers is not 2 skipping\n",
      "Number of speakers is not 2 skipping\n",
      "Number of speakers is not 2 skipping\n",
      "Number of speakers is not 2 skipping\n",
      "Number of speakers is not 2 skipping\n",
      "Number of speakers is not 2 skipping\n",
      "Number of speakers is not 2 skipping\n",
      "Number of speakers is not 2 skipping\n",
      "Number of speakers is not 2 skipping\n",
      "Number of speakers is not 2 skipping\n",
      "Number of speakers is not 2 skipping\n",
      "Number of speakers is not 2 skipping\n",
      "Number of speakers is not 2 skipping\n",
      "Number of speakers is not 2 skipping\n",
      "Number of speakers is not 2 skipping\n",
      "Number of speakers is not 2 skipping\n",
      "Number of speakers is not 2 skipping\n",
      "Number of speakers is not 2 skipping\n",
      "Number of speakers is not 2 skipping\n",
      "Number of speakers is not 2 skipping\n",
      "Number of speakers is not 2 skipping\n",
      "Number of speakers is not 2 skipping\n",
      "Number of speakers is not 2 skipping\n",
      "Number of speakers is not 2 skipping\n",
      "Number of speakers is not 2 skipping\n",
      "Number of speakers is not 2 skipping\n",
      "Number of speakers is not 2 skipping\n",
      "Number of speakers is not 2 skipping\n",
      "Number of speakers is not 2 skipping\n",
      "Number of speakers is not 2 skipping\n",
      "Number of speakers is not 2 skipping\n",
      "Number of speakers is not 2 skipping\n",
      "Number of speakers is not 2 skipping\n",
      "Number of speakers is not 2 skipping\n",
      "Number of speakers is not 2 skipping\n",
      "Number of speakers is not 2 skipping\n",
      "Number of speakers is not 2 skipping\n",
      "Number of speakers is not 2 skipping\n",
      "Number of speakers is not 2 skipping\n",
      "Number of speakers is not 2 skipping\n",
      "Number of speakers is not 2 skipping\n",
      "Number of speakers is not 2 skipping\n",
      "Number of speakers is not 2 skipping\n",
      "Number of speakers is not 2 skipping\n",
      "Number of speakers is not 2 skipping\n",
      "Number of speakers is not 2 skipping\n",
      "Number of speakers is not 2 skipping\n"
     ]
    }
   ],
   "source": [
    "consolidated_dialogues = []\n",
    "for fp in hansard_2020_paths:\n",
    "    consolidated_dialogues += convert_to_question_answer_pairs(fp)"
   ]
  },
  {
   "cell_type": "code",
   "execution_count": 211,
   "id": "2ffffde4-87af-4fa8-8236-f1318ca3d1a8",
   "metadata": {},
   "outputs": [],
   "source": [
    "with open('./written_question_answers.jsonl', 'w') as f:\n",
    "    for entry in consolidated_dialogues:\n",
    "          f.write(json.dumps(entry)+'\\n')"
   ]
  },
  {
   "cell_type": "code",
   "execution_count": 182,
   "id": "a8e797ff-919c-4f08-be3b-87f694301ed4",
   "metadata": {},
   "outputs": [],
   "source": [
    "import pandas as pd"
   ]
  },
  {
   "cell_type": "code",
   "execution_count": 185,
   "id": "a0dc8f1b-e623-4f1c-ada2-7f8e06ffa6f4",
   "metadata": {},
   "outputs": [],
   "source": [
    "df = pd.DataFrame(consolidated_dialogues)"
   ]
  },
  {
   "cell_type": "code",
   "execution_count": 187,
   "id": "d145c2b3-92fe-4b5e-b778-b9071fdedcf3",
   "metadata": {},
   "outputs": [
    {
     "name": "stdout",
     "output_type": "stream",
     "text": [
      "Defaulting to user installation because normal site-packages is not writeable\n",
      "Requirement already satisfied: tiktoken in /home/watsonchua/.local/lib/python3.8/site-packages (0.6.0)\n",
      "Collecting tiktoken\n",
      "  Downloading tiktoken-0.7.0-cp38-cp38-manylinux_2_17_x86_64.manylinux2014_x86_64.whl (1.1 MB)\n",
      "\u001b[2K     \u001b[90m━━━━━━━━━━━━━━━━━━━━━━━━━━━━━━━━━━━━━━━━\u001b[0m \u001b[32m1.1/1.1 MB\u001b[0m \u001b[31m16.7 MB/s\u001b[0m eta \u001b[36m0:00:00\u001b[0ma \u001b[36m0:00:01\u001b[0m\n",
      "\u001b[?25hRequirement already satisfied: requests>=2.26.0 in /home/watsonchua/.local/lib/python3.8/site-packages (from tiktoken) (2.31.0)\n",
      "Requirement already satisfied: regex>=2022.1.18 in /home/watsonchua/.local/lib/python3.8/site-packages (from tiktoken) (2022.9.13)\n",
      "Requirement already satisfied: charset-normalizer<4,>=2 in /usr/local/lib/python3.8/site-packages (from requests>=2.26.0->tiktoken) (2.1.1)\n",
      "Requirement already satisfied: certifi>=2017.4.17 in /home/watsonchua/.local/lib/python3.8/site-packages (from requests>=2.26.0->tiktoken) (2022.12.7)\n",
      "Requirement already satisfied: urllib3<3,>=1.21.1 in /usr/local/lib/python3.8/site-packages (from requests>=2.26.0->tiktoken) (1.26.12)\n",
      "Requirement already satisfied: idna<4,>=2.5 in /usr/local/lib/python3.8/site-packages (from requests>=2.26.0->tiktoken) (3.4)\n",
      "Installing collected packages: tiktoken\n",
      "  Attempting uninstall: tiktoken\n",
      "    Found existing installation: tiktoken 0.6.0\n",
      "    Uninstalling tiktoken-0.6.0:\n",
      "      Successfully uninstalled tiktoken-0.6.0\n",
      "Successfully installed tiktoken-0.7.0\n"
     ]
    }
   ],
   "source": [
    "!pip install tiktoken --upgrade"
   ]
  },
  {
   "cell_type": "code",
   "execution_count": 188,
   "id": "3cddc2ed-263b-4777-870a-00a8a851e5e4",
   "metadata": {},
   "outputs": [],
   "source": [
    "import tiktoken\n",
    "encoder = tiktoken.encoding_for_model(\"gpt-4o\")"
   ]
  },
  {
   "cell_type": "code",
   "execution_count": 190,
   "id": "61499fc8-3e83-44cb-b3ac-06efd7d0a2e3",
   "metadata": {},
   "outputs": [],
   "source": [
    "df['answer_length'] = df['answer'].apply(lambda x: len(encoder.encode(x)))"
   ]
  },
  {
   "cell_type": "code",
   "execution_count": 191,
   "id": "0e8dd34a-b001-4292-8f8b-88f3e3f7871a",
   "metadata": {},
   "outputs": [
    {
     "data": {
      "text/plain": [
       "count    7011.000000\n",
       "mean       64.163457\n",
       "std        37.111016\n",
       "min         0.000000\n",
       "25%        37.000000\n",
       "50%        60.000000\n",
       "75%        87.000000\n",
       "max       271.000000\n",
       "Name: answer_length, dtype: float64"
      ]
     },
     "execution_count": 191,
     "metadata": {},
     "output_type": "execute_result"
    }
   ],
   "source": [
    "df['answer_length'].describe()"
   ]
  },
  {
   "cell_type": "code",
   "execution_count": 204,
   "id": "95d1e136-0e98-4d45-a34b-d526bf3557e7",
   "metadata": {},
   "outputs": [
    {
     "name": "stdout",
     "output_type": "stream",
     "text": [
      "Q:\t Mr Christopher de Souza asked the Minister for Health how is Singapore collaborating with the global scientific community to create a COVID-19 vaccine.\n",
      "\n",
      "\n",
      "A:\t Apart from vaccine development, Singapore has also been involved in the research and development of therapeutics to improve the treatment of COVID-19 patients. For example, the National Centre for Infectious Diseases (NCID) and public hospitals are participating in multi-national clinical trials involving the experimental drug, Remdesivir, which has shown to improve the recovery of COVID-19 patients in some studies.\n",
      "-------------------------\n",
      "Q:\t Mr Chong Kee Hiong asked the Minister for Manpower (a) what is the progress of the Tripartite Advisory on reasonable accommodations for persons with disabilities; (b) what is the target date for the advisory to be ready; (c) whether the Ministry will consider including the advisory's guidelines as part of the Workplace Fairness Legislation; and (d) how will the Ministry measure whether a reasonable accommodation has been implemented effectively.\n",
      "\n",
      "\n",
      "A:\t The contents of the advisory will not be a part of the Workplace Fairness Legislation. Instead, the advisory will complement the new law, which will prohibit workplace discrimination on the basis of disability. Both the advisory and upcoming law will work alongside the Enabling Masterplan to strengthen employment opportunities for persons with disabilities. \n",
      "-------------------------\n",
      "Q:\t Dr Tan Wu Meng asked the Prime Minister (a) since 2020, how many reports are received by financial institutions or MAS regarding unauthorised PayNow transactions involving consumer banking accounts; (b) what proportion of the cases has the mechanism of unauthorised transaction been established; (c) how do such unauthorised transactions take place; (d) what is the total amount of the unauthorised fund transfers reported and recovered respectively; (e) what are the respective median amounts per affected consumer; and (f) what is being done to better protect consumers.\n",
      "\n",
      "\n",
      "A:\t  Consumers need to stay vigilant and remember a few basic rules – one, do not provide your digital banking credentials to anyone under any circumstances; two, do not click on links purportedly sent by banks, as banks will not send you links in SMS or emails; three, use the banks' official mobile applications for your banking needs to minimise the risk of navigating to fraudulent websites.\n",
      "-------------------------\n",
      "Q:\t Ms Mariam Jaafar asked the Deputy Prime Minister and Minister for Finance (a) whether the Government is currently considering the use of past Reserves to fund any projects to mitigate climate change; and (b) if so, what are these projects.\n",
      "\n",
      "\n",
      "A:\t The Government plans to employ a combination of funding methods to finance these measures. This includes funding from the Coastal and Flood Protection Fund, through long-term borrowing via SINGA bonds and through the use of past Reserves to fund land reclamation costs. The Government will continue to study how best to finance these measures in a way that is fiscally sustainable and equitable across generations.\n",
      "-------------------------\n",
      "Q:\t Mr Kwek Hian Chuan Henry asked the Deputy Prime Minister and Minister for Finance whether the Ministry will allow households which are unable to fully utilise their GST U-Save vouchers to withdraw the balance for supporting their other living expenses.\n",
      "\n",
      "\n",
      "A:\t  The Government has also introduced support measures to help Singaporeans defray other living expenses. These include the CDC Vouchers in January, the Cost-of-Living Special Payment in June, the GSTV – Cash in August and the Assurance Package Cash in December.\n",
      "-------------------------\n",
      "Q:\t Dr Tan Wu Meng asked the Minister for Communications and Information (a) whether the Cyber Security Agency and other related agencies provide advice, support and assistance to entities outside the .gov.sg Internet domain such as (i) banks (ii) NETS (iii) public healthcare institutions' intranet and internet-facing facilities (iv) utilities providers and (v) telcos to attain adequate cyber resilience against cyberattacks including distributed denial-of-service attacks; and (b) if so, what is the nature of the support.\n",
      "\n",
      "\n",
      "A:\t All companies and organisations, and not just those owning CIIs, should practise strong cybersecurity hygiene. They should make use of the resources available, to put in place the necessary cyber defences and be prepared to respond to cyber attacks swiftly and effectively.\n",
      "-------------------------\n",
      "Q:\t Mr Melvin Yong Yik Chye asked the Minister for Transport (a) what are the benchmarks that will be used to determine when Changi Airport Terminal 2 will resume operations; and (b) what are the plans to ensure that there will be sufficient workers to support the resumption of operations for Terminal 2.\n",
      "\n",
      "\n",
      "A:\t To prepare for the anticipated increase in travel volume, the Civil Aviation Authority of Singapore (CAAS) is working with the companies in the airport community to ramp up their manpower. They are progressively recalling aviation workers who had been redeployed earlier to other sectors as well as hiring new manpower to replace workers who had left. CAAS is also working with the companies to beef up their business continuity planning to ensure system resilience, given the evolving COVID-19 situation. \n",
      "-------------------------\n",
      "Q:\t Mr Don Wee asked the Minister for Home Affairs with regard to road accidents involving injuries or deaths of children below the age of 18 (a) how many of such accidents were there respectively in each year of the last four years; (b) what are the main causes; and (c) in how many areas have improved road safety features been installed after reviews conducted by the Ministry following these accidents.\n",
      "\n",
      "\n",
      "A:\t The Land Transport Authority had done an assessment of the fatal accident locations between 2020 and 2023. Seven of them were further enhanced with road safety features such as installing a hump, warning signs and road markings to slow down and alert road users to look out for pedestrians. The other locations were assessed to be adequately safe or the accidents at these locations were attributed to human behaviour.  \n",
      "-------------------------\n",
      "Q:\t Ms Hany Soh asked the Minister for National Development whether community gardens will be built as part of the standard communal facilities and features in BTO developments and Neighbourhood Renewal Programmes to foster community bonding and enhance food security resilience. \n",
      "\n",
      "\n",
      "A:\t For existing estates, Town Councils can choose to implement community gardens under the Neighbourhood Renewal Programme (NRP). Before finalising the scope of NRP works, Town Councils will engage and consult local residents on the facilities they would like to see in their precincts. Based on HDB’s records, about half of the NRP projects implemented to-date have incorporated community gardens as part of the improvement works.\n",
      "-------------------------\n",
      "Q:\t Mr Leon Perera asked the Minister for Social and Family Development (a) how many Safe, Sound Sleeping Places (S3Ps) are currently in existence; (b) what is the current utilisation of spaces in S3Ps; (c) what proportion of current S3P users are regulars; (d) what is the median number of nights spent by users at S3Ps; (e) whether the Government is keeping track of the profile of S3Ps users; and (f) whether the Government aims to continue working with the expanded number of S3Ps post-COVID-19 to maintain continuity and accessibility.\n",
      "\n",
      "\n",
      "A:\t S3Ps are an important initiative of the PEERS Network. They have embodied the Singapore Together spirit as the Government and community partners work in collaboration to support those who sleep rough. MSF will continue to work with our partners to provide social support to the S3P residents and to explore the possibility of setting up new S3Ps as needed. \n",
      "-------------------------\n",
      "Q:\t Mr Don Wee asked the Minister for Manpower in respect of active licensed crane operators in Singapore (a) what is their current number; (b) of these, how many are Singapore citizens and permanent residents respectively; (c) how many new local operators are being trained on average every year; and (d) what are the deterrents and challenges which prevent more Singaporeans from taking up this vocation.\n",
      "\n",
      "\n",
      "A:\t \n",
      "-------------------------\n",
      "Q:\t Assoc Prof Jamus Jerome Lim asked the Minister for Home Affairs whether the new digital birth certificates, which will be extended to stillborn children, will allow for the designation of a name for the stillborn child.\n",
      "\n",
      "\n",
      "A:\t Thus far, the ICA has received only one request to do so.\n",
      "-------------------------\n",
      "Q:\t Ms Nadia Ahmad Samdin asked the Minister for National Development (a) whether he can provide an update on the progress towards the goal of establishing 30 therapeutic gardens by 2030 as part of Singapore's City in Nature vision; and (b) whether the Ministry is considering constructing therapeutic gardens in HDB estates.\n",
      "\n",
      "\n",
      "A:\t In addition to establishing TGs in parks, NParks also works with HDB to incorporate TGs and therapeutic landscapes in HDB estates where feasible. This is done as part of new HDB developments and through estate renewal programmes. These TGs in HDB estates help to bring the benefits of therapeutic horticulture and landscapes closer to residents. \n",
      "-------------------------\n",
      "Q:\t Ms He Ting Ru asked the Minister for Health (a) to date, what is the number of patients suffering from long COVID broken down by (i) duration, (ii) demographic and (iii) vaccination status; and (b) whether the Ministry tracks the number of such patients who are adversely and severely affected in their ability to work, study or carry out daily activities.\n",
      "\n",
      "\n",
      "A:\t Mr Ong Ye Kung: This question has been addressed by the reply to Question Nos 46 to 49 on 4 April 2022. [Please refer to \"Incidence of Long COVID amidst Recovered Singaporeans\", Official Report, 4 April 2022, Vol 95, Issue 60, Written Answers to Questions for Oral Answer Not Reached by End of Question Time section.]\n",
      "-------------------------\n",
      "Q:\t Dr Shahira Abdullah asked the Minister for Health (a) what is the average treatment cost of seeking help for mental health issues in a public health institution per year; and (b) whether the use of MediSave for mental health treatment under the Chronic Disease Management Programme can be extended to include more private clinics, given the increase in the need for mental health services.\n",
      "\n",
      "\n",
      "A:\t Patients can tap on MediSave for their mental health treatment at polyclinics as well as more than 90 accredited GPs and private clinics currently. We welcome more clinics to be accredited and trained to make MediSave claims for mental illnesses. Clinics may apply through the Agency for Integrated Care.\n",
      "-------------------------\n",
      "Q:\t Ms Hazel Poa asked the Minister for Health in each year since 2011 (a) what is the total arrears owed by patients in restructured hospitals; (b) what is the amount of arrears that has been written off as bad debt; and (c) what is the percentage of patients who default on their bills.\n",
      "\n",
      "\n",
      "A:\t Mr Ong Ye Kung: Between 2018 and 2021, the annual net new arrears incurred by patients and write-offs at the restructured hospitals were around 2.5% and 0.8% of total bills issued respectively. About $50 million to $70 million of bad debts were written off every year, mainly incurred by patients with financial difficulties. Data prior to 2018 is not readily available.\n",
      "-------------------------\n",
      "Q:\t Mr Chua Kheng Wee Louis asked the Minister for National Development in each year over the last five years, what are the number and proportion of HDB BTO units launched where (i) the Optional Component Scheme is not applicable and (ii) the pedestal pans are pre-fitted in the flats and whether this is optional or compulsory.\n",
      "\n",
      "\n",
      "A:\t Pedestal pans fall outside the scope of OCS, as they are pre-fitted in all BTO flats to meet the requirements to obtain the Temporary Occupation Permit. \n",
      "-------------------------\n",
      "Q:\t Mr Chua Kheng Wee Louis asked the Minister for Manpower (a) whether the Government has undertaken a study on shorter work weeks; and (b) whether the Government can consider a limited trial of a four-day work week in Singapore. Dr Tan See Leng: Any employer wishing to pilot a four-day work week with their staff can do so, as there is no legal impediment to implementing such a scheme.We have noted reports of such small-scale pilots in some countries and their initial results. Given the current economic situation in Singapore, the Ministry is prioritising core issues such as uplifting low-wage workers, job creation, developing the Singaporean Core and enhancing the effectiveness of fair employment rules. We also continue to promote work-life harmony by supporting initiatives such as flexible work arrangements and the Alliance for Action on Work Life Harmony that was launched earlier this year.Having said that, we welcome research or studies by others that can contribute to the development of policies that are pro-worker and pro-business. \n",
      "\n",
      "\n",
      "A:\t Having said that, we welcome research or studies by others that can contribute to the development of policies that are pro-worker and pro-business. \n",
      "-------------------------\n",
      "Q:\t Ms Carrie Tan asked the Minister for Law (a) for the past five years, what has been the number of maintenance order applications received by the Family Justice Court, broken down by applicants who are (i) still married and (ii) divorced respectively; and (b) what is the demographic breakdown by spousal income of (i) married applicants and (ii) divorced applicants.\n",
      "\n",
      "\n",
      "A:\t \n",
      "-------------------------\n",
      "Q:\t Mr Gerald Giam Yean Song asked the Minister for Home Affairs whether Singapore passports can clearly indicate the surname (or the patronym or matronym) of the passport holder to avoid confusion and ambiguity when the passport is presented at foreign immigration checkpoints or when completing official documents.\n",
      "\n",
      "\n",
      "A:\t Any foreign authority that scans the MRZ of the passport during immigration clearance will be aware of the passport holder's surname, regardless of how the surname is sequenced in the name field.\n",
      "-------------------------\n"
     ]
    }
   ],
   "source": [
    "for _, row in df.sample(20).iterrows():\n",
    "    print('Q:\\t',row['question'])\n",
    "    print('\\n')\n",
    "    print('A:\\t', row['answer'])\n",
    "    print('-------------------------')"
   ]
  },
  {
   "cell_type": "code",
   "execution_count": null,
   "id": "56a36c64-3be7-4314-8614-1f13062e3916",
   "metadata": {},
   "outputs": [],
   "source": []
  }
 ],
 "metadata": {
  "kernelspec": {
   "display_name": "Python 3 (ipykernel)",
   "language": "python",
   "name": "python3"
  },
  "language_info": {
   "codemirror_mode": {
    "name": "ipython",
    "version": 3
   },
   "file_extension": ".py",
   "mimetype": "text/x-python",
   "name": "python",
   "nbconvert_exporter": "python",
   "pygments_lexer": "ipython3",
   "version": "3.8.16"
  }
 },
 "nbformat": 4,
 "nbformat_minor": 5
}
