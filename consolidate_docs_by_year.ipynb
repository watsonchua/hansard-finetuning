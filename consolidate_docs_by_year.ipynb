{
 "cells": [
  {
   "cell_type": "code",
   "execution_count": 1,
   "id": "eb5e1e0c-4397-4aeb-bc7c-00c7711eb467",
   "metadata": {},
   "outputs": [],
   "source": [
    "import json\n",
    "from pathlib import Path\n",
    "from glob import glob        "
   ]
  },
  {
   "cell_type": "code",
   "execution_count": 5,
   "id": "bfe88593-66dc-40f4-aaef-fc10c41b8fc1",
   "metadata": {},
   "outputs": [],
   "source": [
    "def combine_docs(year):\n",
    "    all_data = []\n",
    "    pattern = '/home/watsonchua/work/others/hansard_extract_parse/sessions_by_sitting/sitting_{year}-*.jsonl'\n",
    "    filepaths = glob(pattern.format(year=str(year)))\n",
    "    output_path = Path('/home/watsonchua/work/others/hansard_extract_parse/sessions_consolidated_by_year/sittings_{year}.jsonl'.format(year=str(year)))\n",
    "    output_path.parent.mkdir(parents=True, exist_ok=True)\n",
    "    \n",
    "    for fp in filepaths:\n",
    "        p = Path(fp)\n",
    "        with p.open('r') as f:\n",
    "            lines = f.readlines()\n",
    "            for ind, l in enumerate(lines):\n",
    "                data = json.loads(l)\n",
    "                data['session_date'] = p.stem.split('_')[-1]\n",
    "                data['segment'] = str(ind).zfill(5)\n",
    "                all_data.append(data)\n",
    "                \n",
    "    with output_path.open('w') as f:\n",
    "        for d in all_data:\n",
    "            f.write(json.dumps(d) + '\\n')"
   ]
  },
  {
   "cell_type": "code",
   "execution_count": 7,
   "id": "737d302a-a146-48d0-b861-72abd003bca6",
   "metadata": {},
   "outputs": [],
   "source": [
    "for yr in range(2009,2024):\n",
    "    combine_docs(yr)"
   ]
  },
  {
   "cell_type": "code",
   "execution_count": 8,
   "id": "63153966-08eb-4bd7-8f1d-da3ab37b5e09",
   "metadata": {},
   "outputs": [],
   "source": [
    "combine_docs(2024)"
   ]
  },
  {
   "cell_type": "code",
   "execution_count": null,
   "id": "59e6ae11-10f8-4f62-a2de-55da31437975",
   "metadata": {},
   "outputs": [],
   "source": []
  }
 ],
 "metadata": {
  "kernelspec": {
   "display_name": "Python 3 (ipykernel)",
   "language": "python",
   "name": "python3"
  },
  "language_info": {
   "codemirror_mode": {
    "name": "ipython",
    "version": 3
   },
   "file_extension": ".py",
   "mimetype": "text/x-python",
   "name": "python",
   "nbconvert_exporter": "python",
   "pygments_lexer": "ipython3",
   "version": "3.8.16"
  }
 },
 "nbformat": 4,
 "nbformat_minor": 5
}
