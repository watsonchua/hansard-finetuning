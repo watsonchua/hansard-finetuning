{
 "cells": [
  {
   "cell_type": "code",
   "execution_count": 36,
   "id": "d038452c-a0bc-4dc3-b240-fe9d96f9c037",
   "metadata": {},
   "outputs": [],
   "source": [
    "import json\n",
    "import pandas as pd\n",
    "from tqdm.auto import tqdm"
   ]
  },
  {
   "cell_type": "markdown",
   "id": "ee7897cc-f160-439f-8cb6-00d41ea60546",
   "metadata": {},
   "source": [
    "## Generate data using points/hypothetical documents"
   ]
  },
  {
   "cell_type": "code",
   "execution_count": 58,
   "id": "0cea2ec2-4789-4d82-a7e5-51e12ca894fc",
   "metadata": {},
   "outputs": [],
   "source": [
    "# with open('data/written_question_answers_processed.jsonl','r') as f:\n",
    "with open('data/written_question_answers_hy_doc.jsonl','r') as f:\n",
    "    lines = f.readlines()\n",
    "    \n",
    "data = [json.loads(l) for l in lines]\n",
    "df = pd.DataFrame(data)\n",
    "\n",
    "df_answered = df[df['status'] == 'answered']\n",
    "df_answered['date'] = pd.to_datetime(df['filename'].apply(lambda x: x.split('_')[-1]))\n",
    "df_answered_2024 = df_answered[df_answered.date.dt.year == 2024]\n",
    "df_answered_before_2024 = df_answered[df_answered.date.dt.year < 2024]    "
   ]
  },
  {
   "cell_type": "markdown",
   "id": "bf3e7df9-5ad7-465e-95cd-e4eced530928",
   "metadata": {
    "jupyter": {
     "source_hidden": true
    },
    "tags": []
   },
   "source": [
    "## Using hypothetical documents"
   ]
  },
  {
   "cell_type": "code",
   "execution_count": 46,
   "id": "42628b77-a9c2-413a-af13-dd4183c9d656",
   "metadata": {},
   "outputs": [],
   "source": [
    "llama3_prompt_template_with_points = \"\"\"<|start_header_id|>system<|end_header_id|>You are a public servant. Your task is to reply to a parliamentary question given a list of supporting points.<|eot_id|><|start_header_id|>user<|end_header_id|>\n",
    "Question:{question}\n",
    "\n",
    "Supporting points: {points}\n",
    "\n",
    "<|eot_id|><|start_header_id|>assistant<|end_header_id|>{answer}<|eot_id|>\"\"\""
   ]
  },
  {
   "cell_type": "code",
   "execution_count": 29,
   "id": "96a10f82-4080-43cb-b624-6af089d90812",
   "metadata": {},
   "outputs": [
    {
     "data": {
      "text/plain": [
       "'<|start_header_id|>system<|end_header_id|>\\nYou are a public servant. Your task is to reply to a parliamentary question given a list of supporting points.<|eot_id|><|start_header_id|>user<|end_header_id|>\\nQuestion:Mr Leong Mun Wai asked the Prime Minister (a) since the conclusion of the 2023 Presidential Election, how many non-voters have applied to restore their names to the Registers of Electors; and (b) how many of these applications are successful.\\n\\nSupporting points: 101,464 non-voters from the 2023 Presidential Election applied to restore their names to the Registers of Electors as of end January 2024.\\n\\nAll the applications were successful.\\n\\n<|eot_id|><|start_header_id|>assistant<|end_header_id|>As of end January 2024, 101,464 non-voters from the 2023 Presidential Election applied to restore their names to the Registers of Electors. All the applications were successful.<|eot_id|>\\n'"
      ]
     },
     "execution_count": 29,
     "metadata": {},
     "output_type": "execute_result"
    }
   ],
   "source": [
    "sample = df_answered_2024.iloc[0]\n",
    "prompt_template.format(question=sample.question, points=sample.points, answer=re.sub(\"([Mr|Mrs|Mdm|Ms|Dr].*?:)\", '', sample.answer, count=1).strip())"
   ]
  },
  {
   "cell_type": "code",
   "execution_count": 59,
   "id": "fa530794-2126-4ab3-8f78-eb2f178fba75",
   "metadata": {},
   "outputs": [],
   "source": [
    "def format_data(df, output_path, template, include_answer=True, data_type=\"points\"):\n",
    "    with open(output_path, 'w') as f:\n",
    "        for _, row in tqdm(df.iterrows(), total=len(df)):\n",
    "            if data_type == \"points\":\n",
    "                doc = row.points\n",
    "            else:\n",
    "                doc = row.hypothetical_document\n",
    "            formatted_answer = template.format(question=row.question, points=doc, answer=re.sub(\"([Mr|Mrs|Mdm|Ms|Dr].*?:)\", '', row.answer, count=1).strip())                \n",
    "            if not include_answer:\n",
    "                formatted_answer = formatted_answer.rsplit('<|end_header_id|>', maxsplit=1)[0] + '<|end_header_id|>'\n",
    "            f.write(json.dumps({'input': formatted_answer}) + '\\n')\n",
    "    "
   ]
  },
  {
   "cell_type": "code",
   "execution_count": 45,
   "id": "25e03ee9-3855-4288-854f-7e24ccbb38e5",
   "metadata": {},
   "outputs": [
    {
     "data": {
      "application/vnd.jupyter.widget-view+json": {
       "model_id": "3131321d96734d2b8abee35d2f60b07a",
       "version_major": 2,
       "version_minor": 0
      },
      "text/plain": [
       "  0%|          | 0/304 [00:00<?, ?it/s]"
      ]
     },
     "metadata": {},
     "output_type": "display_data"
    },
    {
     "data": {
      "application/vnd.jupyter.widget-view+json": {
       "model_id": "4a4cdf5b67c34a8896b88076f38bea2b",
       "version_major": 2,
       "version_minor": 0
      },
      "text/plain": [
       "  0%|          | 0/304 [00:00<?, ?it/s]"
      ]
     },
     "metadata": {},
     "output_type": "display_data"
    },
    {
     "data": {
      "application/vnd.jupyter.widget-view+json": {
       "model_id": "77b313cf586749e4b01cb0a424c1bd26",
       "version_major": 2,
       "version_minor": 0
      },
      "text/plain": [
       "  0%|          | 0/1785 [00:00<?, ?it/s]"
      ]
     },
     "metadata": {},
     "output_type": "display_data"
    }
   ],
   "source": [
    "format_data(df_answered_2024, 'data/reply_by_points_llama3_formatted_test.jsonl', llama3_prompt_template_with_points, True)\n",
    "format_data(df_answered_2024, 'data/reply_by_points_llama3_formatted_test_no_response.jsonl', llama3_prompt_template_with_points, False)\n",
    "format_data(df_answered_before_2024, 'data/reply_by_points_llama3_formatted_train.jsonl', llama3_prompt_template_with_points, True)"
   ]
  },
  {
   "cell_type": "code",
   "execution_count": 65,
   "id": "97f5d7c7-0881-40e9-bcb1-f29a92ce57a7",
   "metadata": {},
   "outputs": [],
   "source": [
    "def format_data_alpaca(df, output_path, template, data_type=\"points\"):\n",
    "    with open(output_path, 'w') as f:\n",
    "        for _, row in tqdm(df.iterrows(), total=len(df)):\n",
    "            if data_type == \"points\":\n",
    "                doc = row.points\n",
    "            else:\n",
    "                doc = row.hypothetical_document\n",
    "                \n",
    "            formatted_answer = template.format(question=row.question, points=doc, answer=re.sub(\"([Mr|Mrs|Mdm|Ms|Dr].*?:)\", '', row.answer, count=1).strip())                \n",
    "            \n",
    "            output = re.sub(\"([Mr|Mrs|Mdm|Ms|Dr].*?:)\", '', row.answer, count=1).strip()\n",
    "            if not output:\n",
    "                print(row.answer)\n",
    "                continue\n",
    "                \n",
    "            f.write(json.dumps(\n",
    "                {\"instruction\": \"You are a public servant. Your task is to reply to a parliamentary question given a list of supporting points.\", \n",
    "                 \"input\": \"Question: \" + row.question + \n",
    "                 \"\\n\\nSupporting \" + data_type + \": \" + doc, \n",
    "                 \"output\": re.sub(\"([Mr|Mrs|Mdm|Ms|Dr].*?:)\", '', row.answer, count=1).strip()}            \n",
    "            ) + '\\n')"
   ]
  },
  {
   "cell_type": "code",
   "execution_count": null,
   "id": "73c06f8a-c493-447c-8d83-9fdda0014334",
   "metadata": {},
   "outputs": [],
   "source": [
    "format_data_alpaca(df_answered_2024, 'data/reply_by_points_alpaca_formatted_test.jsonl', llama3_prompt_template_with_points, data_type=\"points\")\n",
    "# format_data_alpaca(df_answered_2024, 'data/reply_by_points_alpaca_formatted_test_no_response.jsonl', llama3_prompt_template_with_points, False)\n",
    "format_data_alpaca(df_answered_before_2024, 'data/reply_by_points_alpaca_formatted_train.jsonl', llama3_prompt_template_with_points, data_type=\"point\")"
   ]
  },
  {
   "cell_type": "code",
   "execution_count": null,
   "id": "1418f65f-0e58-4f99-93d1-aecc1f747abb",
   "metadata": {},
   "outputs": [],
   "source": [
    "format_data_alpaca(df_answered_2024, 'data/reply_by_hyd_alpaca_formatted_test.jsonl', llama3_prompt_template_with_points, data_type=\"document\")\n",
    "# format_data_alpaca(df_answered_2024, 'data/reply_by_points_alpaca_formatted_test_no_response.jsonl', llama3_prompt_template_with_points, False)\n",
    "format_data_alpaca(df_answered_before_2024, 'data/reply_by_hyd_alpaca_formatted_train.jsonl', llama3_prompt_template_with_points, data_type=\"document\")"
   ]
  },
  {
   "cell_type": "code",
   "execution_count": 55,
   "id": "703046c5-42cf-4719-b70e-16dbb1e70743",
   "metadata": {},
   "outputs": [
    {
     "data": {
      "application/vnd.jupyter.widget-view+json": {
       "model_id": "762cf039f1fd469d9ae18ca99d194873",
       "version_major": 2,
       "version_minor": 0
      },
      "text/plain": [
       "Downloading data files:   0%|          | 0/1 [00:00<?, ?it/s]"
      ]
     },
     "metadata": {},
     "output_type": "display_data"
    },
    {
     "data": {
      "application/vnd.jupyter.widget-view+json": {
       "model_id": "a8180611624a4d829deff46d9933e39d",
       "version_major": 2,
       "version_minor": 0
      },
      "text/plain": [
       "Extracting data files:   0%|          | 0/1 [00:00<?, ?it/s]"
      ]
     },
     "metadata": {},
     "output_type": "display_data"
    },
    {
     "data": {
      "application/vnd.jupyter.widget-view+json": {
       "model_id": "845dd292b72b476ab6f4e954ece6bbb4",
       "version_major": 2,
       "version_minor": 0
      },
      "text/plain": [
       "Generating train split: 0 examples [00:00, ? examples/s]"
      ]
     },
     "metadata": {},
     "output_type": "display_data"
    }
   ],
   "source": [
    "alpaca = load_dataset(\"json\", data_files={\"train\": \"data/reply_by_points_alpaca_formatted_train.jsonl\"}, split=\"train\")"
   ]
  },
  {
   "cell_type": "code",
   "execution_count": 56,
   "id": "7d34236b-0c7b-4a14-a536-ad74d203eace",
   "metadata": {},
   "outputs": [
    {
     "data": {
      "text/plain": [
       "Dataset({\n",
       "    features: ['instruction', 'input', 'output'],\n",
       "    num_rows: 1785\n",
       "})"
      ]
     },
     "execution_count": 56,
     "metadata": {},
     "output_type": "execute_result"
    }
   ],
   "source": [
    "alpaca"
   ]
  }
 ],
 "metadata": {
  "kernelspec": {
   "display_name": "Python 3 (ipykernel)",
   "language": "python",
   "name": "python3"
  },
  "language_info": {
   "codemirror_mode": {
    "name": "ipython",
    "version": 3
   },
   "file_extension": ".py",
   "mimetype": "text/x-python",
   "name": "python",
   "nbconvert_exporter": "python",
   "pygments_lexer": "ipython3",
   "version": "3.8.16"
  }
 },
 "nbformat": 4,
 "nbformat_minor": 5
}
