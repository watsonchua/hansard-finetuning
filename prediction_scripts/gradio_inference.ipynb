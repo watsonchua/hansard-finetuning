{
 "cells": [
  {
   "cell_type": "code",
   "execution_count": 1,
   "metadata": {},
   "outputs": [
    {
     "name": "stdout",
     "output_type": "stream",
     "text": [
      "Collecting gradio_client\n",
      "  Downloading gradio_client-1.0.2-py3-none-any.whl (318 kB)\n",
      "\u001b[K     |████████████████████████████████| 318 kB 15.7 MB/s eta 0:00:01\n",
      "\u001b[?25hCollecting websockets<12.0,>=10.0\n",
      "  Downloading websockets-11.0.3-cp38-cp38-manylinux_2_5_x86_64.manylinux1_x86_64.manylinux_2_17_x86_64.manylinux2014_x86_64.whl (130 kB)\n",
      "\u001b[K     |████████████████████████████████| 130 kB 13.0 MB/s eta 0:00:01\n",
      "\u001b[?25hRequirement already satisfied: fsspec in /usr/local/lib/python3.8/dist-packages (from gradio_client) (2023.9.1)\n",
      "Requirement already satisfied: packaging in /usr/local/lib/python3.8/dist-packages (from gradio_client) (23.1)\n",
      "Requirement already satisfied: huggingface-hub>=0.19.3 in ./.local/lib/python3.8/site-packages (from gradio_client) (0.23.0)\n",
      "Collecting httpx>=0.24.1\n",
      "  Using cached httpx-0.27.0-py3-none-any.whl (75 kB)\n",
      "Requirement already satisfied: typing-extensions~=4.0 in /usr/local/lib/python3.8/dist-packages (from gradio_client) (4.4.0)\n",
      "Requirement already satisfied: filelock in /usr/local/lib/python3.8/dist-packages (from huggingface-hub>=0.19.3->gradio_client) (3.9.0)\n",
      "Requirement already satisfied: pyyaml>=5.1 in /usr/lib/python3/dist-packages (from huggingface-hub>=0.19.3->gradio_client) (5.3.1)\n",
      "Requirement already satisfied: requests in /usr/lib/python3/dist-packages (from huggingface-hub>=0.19.3->gradio_client) (2.22.0)\n",
      "Requirement already satisfied: tqdm>=4.42.1 in /usr/local/lib/python3.8/dist-packages (from huggingface-hub>=0.19.3->gradio_client) (4.66.1)\n",
      "Collecting httpcore==1.*\n",
      "  Using cached httpcore-1.0.5-py3-none-any.whl (77 kB)\n",
      "Requirement already satisfied: certifi in /usr/lib/python3/dist-packages (from httpx>=0.24.1->gradio_client) (2019.11.28)\n",
      "Collecting sniffio\n",
      "  Using cached sniffio-1.3.1-py3-none-any.whl (10 kB)\n",
      "Requirement already satisfied: idna in /usr/lib/python3/dist-packages (from httpx>=0.24.1->gradio_client) (2.8)\n",
      "Collecting anyio\n",
      "  Using cached anyio-4.4.0-py3-none-any.whl (86 kB)\n",
      "Collecting h11<0.15,>=0.13\n",
      "  Using cached h11-0.14.0-py3-none-any.whl (58 kB)\n",
      "Collecting exceptiongroup>=1.0.2; python_version < \"3.11\"\n",
      "  Downloading exceptiongroup-1.2.1-py3-none-any.whl (16 kB)\n",
      "Installing collected packages: websockets, h11, httpcore, sniffio, exceptiongroup, anyio, httpx, gradio-client\n",
      "Successfully installed anyio-4.4.0 exceptiongroup-1.2.1 gradio-client-1.0.2 h11-0.14.0 httpcore-1.0.5 httpx-0.27.0 sniffio-1.3.1 websockets-11.0.3\n"
     ]
    }
   ],
   "source": [
    "!pip install gradio_client"
   ]
  },
  {
   "cell_type": "code",
   "execution_count": 2,
   "metadata": {},
   "outputs": [
    {
     "name": "stderr",
     "output_type": "stream",
     "text": [
      "/usr/local/lib/python3.8/dist-packages/tqdm/auto.py:21: TqdmWarning: IProgress not found. Please update jupyter and ipywidgets. See https://ipywidgets.readthedocs.io/en/stable/user_install.html\n",
      "  from .autonotebook import tqdm as notebook_tqdm\n"
     ]
    },
    {
     "name": "stdout",
     "output_type": "stream",
     "text": [
      "Loaded as API: https://5babae88e4d217a896.gradio.live/ ✔\n"
     ]
    }
   ],
   "source": [
    "from gradio_client import Client\n",
    "client = Client(\"https://5babae88e4d217a896.gradio.live/\")"
   ]
  },
  {
   "cell_type": "code",
   "execution_count": null,
   "metadata": {},
   "outputs": [],
   "source": [
    "# Test\n",
    "result = client.predict(\n",
    "\t\t\"Howdy!\",\t# str  in 'instruction' Textbox component\n",
    "\t\tapi_name=\"/predict\"\n",
    ")\n",
    "print(result)"
   ]
  },
  {
   "cell_type": "code",
   "execution_count": 3,
   "metadata": {},
   "outputs": [],
   "source": [
    "prompt_template = \"\"\"Below is an instruction that describes a task, paired with an input that provides further context. Write a response that appropriately completes the request.\n",
    "\n",
    "### Instruction:\n",
    "{instruction}\n",
    "\n",
    "### Input:\n",
    "{input}\n",
    "\n",
    "### Response:\"\"\""
   ]
  },
  {
   "cell_type": "code",
   "execution_count": 4,
   "metadata": {},
   "outputs": [],
   "source": [
    "import json\n",
    "with open('/raid/watson/input_data/hansard/reply_by_hyd_alpaca_formatted_test.jsonl', 'r') as f:\n",
    "    lines = f.readlines()\n",
    "json_lines = [json.loads(l) for l in lines]"
   ]
  },
  {
   "cell_type": "code",
   "execution_count": 6,
   "metadata": {},
   "outputs": [
    {
     "name": "stderr",
     "output_type": "stream",
     "text": [
      " 40%|███▉      | 119/301 [29:59<34:07, 11.25s/it] "
     ]
    }
   ],
   "source": [
    "from tqdm.auto import tqdm\n",
    "with open('/raid/watson/predictions/hansard/reply_by_hyd_alpaca_formatted_test_predictions_openllama3b_alpaca_format_lora.jsonl', 'w') as f:\n",
    "\tfor row in tqdm(json_lines):\n",
    "\t\tprompt = prompt_template.format(instruction=row['instruction'], input=row['input'])\n",
    "\t\tresult = client.predict(\n",
    "\t\t\t\tprompt,\t# str  in 'instruction' Textbox component\n",
    "\t\t\t\tapi_name=\"/predict\"\n",
    "\t\t)\n",
    "\t\tresponse = result.rsplit(\"### Response:\", maxsplit=1)[-1].strip()\n",
    "\t\toutput = {\"generation\": response, **row}\n",
    "\t\tf.write(json.dumps(output) + '\\n')\n",
    "\n"
   ]
  },
  {
   "cell_type": "code",
   "execution_count": null,
   "metadata": {},
   "outputs": [],
   "source": []
  }
 ],
 "metadata": {
  "kernelspec": {
   "display_name": "Python 3",
   "language": "python",
   "name": "python3"
  },
  "language_info": {
   "codemirror_mode": {
    "name": "ipython",
    "version": 3
   },
   "file_extension": ".py",
   "mimetype": "text/x-python",
   "name": "python",
   "nbconvert_exporter": "python",
   "pygments_lexer": "ipython3",
   "version": "3.8.10"
  }
 },
 "nbformat": 4,
 "nbformat_minor": 2
}
